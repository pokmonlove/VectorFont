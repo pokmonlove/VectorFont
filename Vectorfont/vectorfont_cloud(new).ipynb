{
 "cells": [
  {
   "cell_type": "markdown",
   "id": "5f19863c",
   "metadata": {},
   "source": [
    "## 1. 라이브러리 로드"
   ]
  },
  {
   "cell_type": "code",
   "execution_count": 14,
   "id": "0fd95d96",
   "metadata": {},
   "outputs": [],
   "source": [
    "#라이브러리 설치\n",
    "import sys\n",
    "#!{sys.executable} -m pip install --upgrade https://github.com/aparrish/bezmerizing/archive/master.zip"
   ]
  },
  {
   "cell_type": "code",
   "execution_count": 15,
   "id": "aefcaf44",
   "metadata": {},
   "outputs": [],
   "source": [
    "import math\n",
    "import random\n",
    "import numpy as np\n",
    "from flat import document, rgb, rgba, font, strike, shape\n",
    "from flat.command import moveto, quadto, curveto, lineto, closepath\n",
    "from bezmerizing import Polyline, Path\n",
    "from numpy.random import uniform, normal, choice\n",
    "from numpy.random import uniform, normal, choice\n",
    "from copy import copy\n",
    "from random import randrange\n",
    "from IPython.display import SVG, display  # Scalable Vector Graphics, SVG\n",
    "def show(page):\n",
    "    display(SVG(page.svg()))"
   ]
  },
  {
   "cell_type": "markdown",
   "id": "61ac03b7",
   "metadata": {},
   "source": [
    "## 2. 폰트 로드"
   ]
  },
  {
   "cell_type": "code",
   "execution_count": 16,
   "id": "476b9830",
   "metadata": {},
   "outputs": [
    {
     "name": "stdout",
     "output_type": "stream",
     "text": [
      "폰트명: b'NanumSquare_acEB'\n",
      "Density: 1000\n"
     ]
    }
   ],
   "source": [
    "f = font.open(\"fonts/NanumSquare_0.ttf\")\n",
    "print(\"폰트명:\", f.name)\n",
    "print(\"Density:\", f.density)"
   ]
  },
  {
   "cell_type": "markdown",
   "id": "2a300b56",
   "metadata": {},
   "source": [
    "## 3. 자주 사용할 함수 정의"
   ]
  },
  {
   "cell_type": "code",
   "execution_count": 17,
   "id": "09efe1d1",
   "metadata": {},
   "outputs": [],
   "source": [
    "def glyphcommands(f, ch):\n",
    "    return Path([copy(cmd) for cmd in f.glyph(f.charmap[ord(ch)])])\n",
    "\n",
    "def advancefor(f, ch):\n",
    "    return f.advances[f.charmap[ord(ch)]]"
   ]
  },
  {
   "cell_type": "markdown",
   "id": "2a84f46d",
   "metadata": {},
   "source": [
    "## 4. 글리프 불러오기"
   ]
  },
  {
   "cell_type": "code",
   "execution_count": 18,
   "id": "7e11b3e2",
   "metadata": {
    "scrolled": true
   },
   "outputs": [
    {
     "data": {
      "image/svg+xml": [
       "<svg xmlns=\"http://www.w3.org/2000/svg\" xmlns:xlink=\"http://www.w3.org/1999/xlink\" version=\"1.1\" width=\"300pt\" height=\"200pt\" viewBox=\"0 0 300 200\">\n",
       "<title>Untitled</title>\n",
       "<path d=\"M0.576,98.496 L83.664,98.496 Q85.968,88.416,86.76,79.272 Q87.552,70.128,87.552,60.192 L87.552,54.288 L15.696,54.288 L15.696,38.592 L105.696,38.592 L105.696,56.88 Q105.696,68.112,104.76,78.984 Q103.824,89.856,101.952,98.496 L123.264,98.496 L123.264,113.904 L70.992,113.904 L70.992,164.736 L52.704,164.736 L52.704,113.904 L0.576,113.904 L0.576,98.496 z\" fill=\"rgb(240,240,240)\" stroke=\"rgb(40,40,40)\" stroke-miterlimit=\"10\"/>\n",
       "<path d=\"M161.712,164.88 L161.712,120.816 L250.128,120.816 L250.128,164.88 L161.712,164.88 z M179.568,135.216 L179.568,150.48 L232.272,150.48 L232.272,135.216 L179.568,135.216 z M144.576,99.072 L267.264,99.072 L267.264,113.472 L144.576,113.472 L144.576,99.072 z M251.712,91.728 L161.712,91.728 L161.712,56.304 L231.552,56.304 L231.552,48.816 L161.28,48.816 L161.28,34.56 L249.408,34.56 L249.408,69.984 L179.568,69.984 L179.568,77.472 L251.712,77.472 L251.712,91.728 z\" fill=\"rgb(240,240,240)\" stroke=\"rgb(40,40,40)\" stroke-miterlimit=\"10\"/>\n",
       "</svg>"
      ],
      "text/plain": [
       "<IPython.core.display.SVG object>"
      ]
     },
     "metadata": {},
     "output_type": "display_data"
    }
   ],
   "source": [
    "gu_path_orig = glyphcommands(f, \"구\")\n",
    "reum_path_orig = glyphcommands(f, \"름\")\n",
    "\n",
    "page = document(300, 200, 'pt').addpage()\n",
    "pen = shape().stroke(rgb(40, 40, 40)).fill(rgb(240, 240, 240))\n",
    "page.place(pen.path(gu_path_orig.scale(144/f.density).translate(0, 144)))\n",
    "page.place(pen.path(reum_path_orig.scale(144/f.density).translate(144, 144)))\n",
    "show(page)"
   ]
  },
  {
   "cell_type": "markdown",
   "id": "814d4e67",
   "metadata": {
    "scrolled": false
   },
   "source": [
    "for i in gu_path_orig.commands:                    #path 알고 싶을 때 code로 변경해 사용\n",
    "    if hasattr(i, 'x') and hasattr(i, 'y'):\n",
    "        print(type(i), \":\", i.x, i.y)\n",
    "    else:\n",
    "        print(type(i))"
   ]
  },
  {
   "cell_type": "markdown",
   "id": "fd141342",
   "metadata": {
    "scrolled": false
   },
   "source": [
    "for i in reum_path_orig.commands:                  #path 알고 싶을 때 code로 변경해 사용\n",
    "    if hasattr(i, 'x') and hasattr(i, 'y'):\n",
    "        print(type(i), \":\", i.x, i.y)\n",
    "    else:\n",
    "        print(type(i))"
   ]
  },
  {
   "cell_type": "markdown",
   "id": "ade33418",
   "metadata": {},
   "source": [
    "## 5. 폰트 글리프 변형"
   ]
  },
  {
   "cell_type": "markdown",
   "id": "18b5f795",
   "metadata": {},
   "source": [
    "### 5-1. 각 글리프들의 방향 알아내기"
   ]
  },
  {
   "cell_type": "code",
   "execution_count": 19,
   "id": "d61168b7",
   "metadata": {},
   "outputs": [],
   "source": [
    "def get_dir_of_glyph(cmd, pre_x, pre_y):\n",
    "\n",
    "    direct = \"\"    \n",
    "    if type(cmd) == moveto:\n",
    "        direct += \"start\"\n",
    "        return direct\n",
    "    \n",
    "    if cmd.x > pre_x:\n",
    "        direct += \"+right\"\n",
    "    elif cmd.x < pre_x:\n",
    "        direct += \"+left\"\n",
    "    else:\n",
    "        direct += \"\"\n",
    "    \n",
    "    if cmd.y > pre_y:\n",
    "        direct += \"+down\"\n",
    "    elif cmd.y < pre_y:\n",
    "        direct += \"+up\"\n",
    "    else:\n",
    "        direct += \"\"\n",
    "        \n",
    "   \n",
    "    return direct"
   ]
  },
  {
   "cell_type": "code",
   "execution_count": 20,
   "id": "506ec3b7",
   "metadata": {},
   "outputs": [],
   "source": [
    "def get_dir_list(path):\n",
    "    dir_list = []\n",
    "    \n",
    "    pre_x, pre_y = -9999, -9999\n",
    "    for idx, cmd in enumerate(path):\n",
    "        if type(cmd) == moveto:\n",
    "            pre_x = cmd.x\n",
    "            pre_y = cmd.y\n",
    "            direct = get_dir_of_glyph(cmd, pre_x, pre_y)\n",
    "            dir_list.append(direct)\n",
    "        elif type(cmd) in (lineto, quadto, curveto):\n",
    "            direct = get_dir_of_glyph(cmd, pre_x, pre_y)\n",
    "            dir_list.append(direct)\n",
    "            pre_x = cmd.x\n",
    "            pre_y = cmd.y\n",
    "        else:\n",
    "            dir_list.append(\"fin\")\n",
    "    \n",
    "    return dir_list"
   ]
  },
  {
   "cell_type": "markdown",
   "id": "708b6f09",
   "metadata": {},
   "source": [
    "### 5-2. 각 글리프를 2차 베지어 곡선으로 변경 및 디자인 적용\n",
    "* 구름 디자인 적용: mod_cloud_corrdinate_value()"
   ]
  },
  {
   "cell_type": "code",
   "execution_count": 21,
   "id": "8e24d75d",
   "metadata": {},
   "outputs": [],
   "source": [
    "# 아웃라인을 따라 동글동글하게 튀어나오는 구름모양 디자인\n",
    "def mod_cloud_corrdinate_value(direct, mid_x, mid_y, av, cmd):\n",
    "    \n",
    "    c = copy(cmd)\n",
    "    if direct.count('+')==2:  # 대각선\n",
    "        if \"right+up\" in direct:\n",
    "            c = quadto(x1=mid_x-av, y1=mid_y-av, x=cmd.x, y=cmd.y)\n",
    "        elif \"right+down\" in direct:\n",
    "            c = quadto(x1=mid_x+av, y1=mid_y-av, x=cmd.x, y=cmd.y)\n",
    "        elif \"left+up\" in direct:\n",
    "            c = quadto(x1=mid_x-av, y1=mid_y+av, x=cmd.x, y=cmd.y)\n",
    "        elif \"left+down\" in direct:\n",
    "            c = quadto(x1=mid_x+av, y1=mid_y+av, x=cmd.x, y=cmd.y)\n",
    "        \n",
    "    else:  # 상하좌우\n",
    "        if \"right\" in direct:\n",
    "            c = quadto(x1=mid_x, y1=mid_y-av, x=cmd.x, y=cmd.y)\n",
    "        elif \"left\" in direct:\n",
    "            c = quadto(x1=mid_x, y1=mid_y+av, x=cmd.x, y=cmd.y)\n",
    "        elif \"up\" in direct:\n",
    "            c = quadto(x1=mid_x-av, y1=mid_y, x=cmd.x, y=cmd.y)\n",
    "        elif \"down\" in direct:\n",
    "            c = quadto(x1=mid_x+av, y1=mid_y, x=cmd.x, y=cmd.y)\n",
    "    \n",
    "    return c"
   ]
  },
  {
   "cell_type": "code",
   "execution_count": 22,
   "id": "c6bf6de2",
   "metadata": {},
   "outputs": [],
   "source": [
    "# cmd: glyph\n",
    "# direct: direction of glyph\n",
    "# av: Adjustment value - how much we will change the glyph\n",
    "def change_glyph_to_quad(cmd, direct, av, pre_x, pre_y):\n",
    "    \n",
    "    if type(cmd) == moveto:\n",
    "        c = moveto(cmd.x, cmd.y)\n",
    "    elif type(cmd) in (lineto, quadto, curveto):\n",
    "        mid_x = (cmd.x + pre_x) / 2\n",
    "        mid_y = (cmd.y + pre_y) / 2\n",
    "        #print(direct,\":\", pre_x, mid_x, cmd.x)\n",
    "        #print(direct,\":\", pre_y, mid_y, cmd.y)\n",
    "        \n",
    "        #디자인 적용\n",
    "        c = mod_cloud_corrdinate_value(direct, mid_x, mid_y, av, cmd)\n",
    "    else:\n",
    "        c = closepath\n",
    "\n",
    "    return c"
   ]
  },
  {
   "cell_type": "code",
   "execution_count": 23,
   "id": "3dce491e",
   "metadata": {},
   "outputs": [],
   "source": [
    "def make_design_glyph(input_path, glyph_dir, av):\n",
    "    pre_x = 0\n",
    "    pre_y = 0\n",
    "\n",
    "    design_glyph_list = []\n",
    "    for idx, cmd in enumerate(input_path):\n",
    "        if type(cmd) == moveto:\n",
    "            pre_x = cmd.x\n",
    "            pre_y = cmd.y\n",
    "            c = change_glyph_to_quad(cmd, glyph_dir[idx], av, pre_x, pre_y)\n",
    "        elif type(cmd) in (lineto, quadto, curveto):\n",
    "            c = change_glyph_to_quad(cmd, glyph_dir[idx], av, pre_x, pre_y)\n",
    "            pre_x = cmd.x\n",
    "            pre_y = cmd.y\n",
    "        else:\n",
    "            c = closepath\n",
    "            pre_x = 0\n",
    "            pre_y = 0\n",
    "\n",
    "        design_glyph_list.append(c)\n",
    "        \n",
    "    return design_glyph_list"
   ]
  },
  {
   "cell_type": "markdown",
   "id": "e234740a",
   "metadata": {},
   "source": [
    "### 5-3. 글리프 분할"
   ]
  },
  {
   "cell_type": "code",
   "execution_count": 24,
   "id": "62a42db1",
   "metadata": {},
   "outputs": [],
   "source": [
    "def cut_glyph(cut_dir, cut_num, origin_glyph, origin_glyph_dir):\n",
    "    \n",
    "    cutted_glyph = []\n",
    "    pre_x, pre_y = -9999, -9999\n",
    "    rn= randrange(1, cut_num+1)  # 1부터 cut_num+1 사이의 임의의 정수\n",
    "    cut_num_list=[]\n",
    "    random_num_list=[]\n",
    "    for x in range(cut_num):\n",
    "        cut_num_list.append(x)\n",
    "    random_num_list=random_num_list+random.sample(cut_num_list, 2)    \n",
    " \n",
    "    \n",
    "    for idx, cmd in enumerate(origin_glyph):\n",
    "        \n",
    "        if type(cmd) == moveto:  # moveto (시작일경우)\n",
    "            pre_x, pre_y = cmd.x, cmd.y\n",
    "            c = moveto(cmd.x, cmd.y)\n",
    "            cutted_glyph.append(c)\n",
    "            \n",
    "        elif type(cmd) == lineto and origin_glyph_dir[idx] in cut_dir:  # cut (자르고자 하는 방향의 글리프인 경우)\n",
    "            #길이 계산\n",
    "            glyph_length = math.sqrt((cmd.x - pre_x)**2 + (cmd.y - pre_y)**2)\n",
    "            #print(origin_glyph_dir[idx], \":\", glyph_length)\n",
    "            cut_num2 = int(glyph_length / 300) * 2 + 1\n",
    "            #print(int(glyph_length / 300))\n",
    "            \n",
    "            #글리프를 분할하기엔 너무 짧을때는 분할 X\n",
    "            if cut_num2==1:\n",
    "                if origin_glyph_dir[idx] == \"+right\":\n",
    "                    for i in  range(1, cut_num2 + 1):\n",
    "                        temp_x = pre_x + i * (cmd.x - pre_x) / cut_num2\n",
    "                        c = lineto(temp_x, cmd.y)\n",
    "                        cutted_glyph.append(c)\n",
    "                elif origin_glyph_dir[idx] == \"+down\":\n",
    "                    for i in  range(1, cut_num2 + 1):\n",
    "                        temp_y = pre_y + i * (cmd.y - pre_y) / cut_num2\n",
    "                        c = lineto(cmd.x, temp_y)\n",
    "                        cutted_glyph.append(c)\n",
    "                elif origin_glyph_dir[idx] == \"+left\":\n",
    "                    for i in  range(1, cut_num2 + 1):\n",
    "                        temp_x = pre_x - i * (pre_x - cmd.x) / cut_num2\n",
    "                        c = lineto(temp_x, cmd.y)\n",
    "                        cutted_glyph.append(c)\n",
    "                elif origin_glyph_dir[idx] == \"+up\":\n",
    "                    for i in  range(1, cut_num2 + 1):\n",
    "                        temp_y = pre_y - i * (pre_y - cmd.y) / cut_num2\n",
    "                        c = lineto(cmd.x, temp_y)\n",
    "                        cutted_glyph.append(c)\n",
    "\n",
    "                pre_x, pre_y = cmd.x, cmd.y\n",
    "                \n",
    "            #분할하기에 적당한 길이의 글리프일 때는 분할 진행    \n",
    "            else:\n",
    "                if origin_glyph_dir[idx] == \"+right\":\n",
    "                    for i in range(1, cut_num + 1):\n",
    "                        if i in random_num_list:\n",
    "                            temp_x = pre_x + (i+1) * (cmd.x - pre_x) / cut_num\n",
    "                            c = lineto(temp_x, cmd.y)\n",
    "                            cutted_glyph.append(c)\n",
    "                        else:\n",
    "                            temp_x = pre_x + i * (cmd.x - pre_x) / cut_num\n",
    "                            c = lineto(temp_x, cmd.y)\n",
    "                            cutted_glyph.append(c)\n",
    "                elif origin_glyph_dir[idx] == \"+down\":\n",
    "                    for i in range(1, cut_num + 1):\n",
    "                        if i in random_num_list:\n",
    "                            temp_y = pre_y + (i+1) * (cmd.y - pre_y) / cut_num\n",
    "                            c = lineto(cmd.x, temp_y)\n",
    "                            cutted_glyph.append(c)\n",
    "                        else:\n",
    "                            temp_y = pre_y + i * (cmd.y - pre_y) / cut_num\n",
    "                            c = lineto(cmd.x, temp_y)\n",
    "                            cutted_glyph.append(c)    \n",
    "\n",
    "                elif origin_glyph_dir[idx] == \"+left\":\n",
    "                    for i in range(1, cut_num + 1):\n",
    "                        if i in random_num_list:\n",
    "                            temp_x = pre_x - (i+1) * (pre_x - cmd.x) / cut_num\n",
    "                            c = lineto(temp_x, cmd.y)\n",
    "                            cutted_glyph.append(c)\n",
    "                        else:\n",
    "                            temp_x = pre_x - i * (pre_x - cmd.x) / cut_num\n",
    "                            c = lineto(temp_x, cmd.y)\n",
    "                            cutted_glyph.append(c)\n",
    "                elif origin_glyph_dir[idx] == \"+up\":\n",
    "                    for i in range(1, cut_num + 1):\n",
    "                        if i in random_num_list:\n",
    "                            temp_y = pre_y - (i+1) * (pre_y - cmd.y) / cut_num\n",
    "                            c = lineto(cmd.x, temp_y)\n",
    "                            cutted_glyph.append(c)\n",
    "                        else:\n",
    "                            temp_y = pre_y - i * (pre_y - cmd.y) / cut_num\n",
    "                            c = lineto(cmd.x, temp_y)\n",
    "                            cutted_glyph.append(c)\n",
    "\n",
    "                pre_x, pre_y = cmd.x, cmd.y\n",
    "                \n",
    "        elif  type(cmd) in (lineto, quadto, curveto):  # etc (그 외의 건드리지 않을 글리프인 경우)\n",
    "            if type(cmd) == lineto:\n",
    "                c = lineto(cmd.x, cmd.y)\n",
    "            elif type(cmd) == quadto:\n",
    "                c = quadto(x1=cmd.x1, y1=cmd.y1, x=cmd.x, y=cmd.y) \n",
    "            elif type(cmd) == curveto:\n",
    "                c = curveto(x1=cmd.x1, y1=cmd.y1, x2=cmd.x2, y2=cmd.y2, x=cmd.x, y=cmd.y)\n",
    "            pre_x = cmd.x\n",
    "            pre_y = cmd.y\n",
    "            cutted_glyph.append(c)\n",
    "            \n",
    "        else:  # closepath (글리프를 끝낼 경우)\n",
    "            c = closepath\n",
    "            cutted_glyph.append(c)\n",
    "    \n",
    "    return cutted_glyph"
   ]
  },
  {
   "cell_type": "markdown",
   "id": "b760f9fd",
   "metadata": {},
   "source": [
    "## 6. 디자인 적용 후 출력"
   ]
  },
  {
   "cell_type": "code",
   "execution_count": 25,
   "id": "ec6e9f90",
   "metadata": {},
   "outputs": [
    {
     "data": {
      "image/svg+xml": [
       "<svg xmlns=\"http://www.w3.org/2000/svg\" xmlns:xlink=\"http://www.w3.org/1999/xlink\" version=\"1.1\" width=\"300pt\" height=\"200pt\" viewBox=\"0 0 300 200\">\n",
       "<title>Untitled</title>\n",
       "<path d=\"M20.576,98.496 Q28.8848,91.296,37.1936,98.496 Q53.8112,91.296,70.4288,98.496 Q78.7376,91.296,87.0464,98.496 L87.0464,98.496 Q95.3552,91.296,103.664,98.496 Q98.012,81.684,106.76,79.272 Q99.956,62.532,107.552,60.192 Q100.352,57.24,107.552,54.288 Q100.3664,61.488,93.1808,54.288 Q78.8096,61.488,64.4384,54.288 Q57.2528,61.488,50.0672,54.288 L50.0672,54.288 Q42.8816,61.488,35.696,54.288 Q28.496,46.44,35.696,38.592 Q44.696,31.392,53.696,38.592 Q71.696,31.392,89.696,38.592 Q98.696,31.392,107.696,38.592 L107.696,38.592 Q116.696,31.392,125.696,38.592 Q132.896,47.736,125.696,56.88 Q132.428,75.132,124.76,78.984 Q130.556,95.94,121.952,98.496 Q132.608,91.296,143.264,98.496 Q150.464,106.2,143.264,113.904 Q138.0368,121.104,132.8096,113.904 Q122.3552,121.104,111.9008,113.904 Q106.6736,121.104,101.4464,113.904 L101.4464,113.904 Q96.2192,121.104,90.992,113.904 Q98.192,118.9872,90.992,124.0704 Q98.192,134.2368,90.992,144.4032 Q98.192,149.4864,90.992,154.5696 L90.992,154.5696 Q98.192,159.6528,90.992,164.736 Q81.848,171.936,72.704,164.736 Q65.504,159.6528,72.704,154.5696 Q65.504,144.4032,72.704,134.2368 Q65.504,129.1536,72.704,124.0704 L72.704,124.0704 Q65.504,118.9872,72.704,113.904 Q67.4912,121.104,62.2784,113.904 Q51.8528,121.104,41.4272,113.904 Q36.2144,121.104,31.0016,113.904 L31.0016,113.904 Q25.7888,121.104,20.576,113.904 Q13.376,106.2,20.576,98.496 z\" fill=\"rgb(240,240,240)\" stroke=\"rgb(40,40,40)\" stroke-miterlimit=\"10\"/>\n",
       "</svg>"
      ],
      "text/plain": [
       "<IPython.core.display.SVG object>"
      ]
     },
     "metadata": {},
     "output_type": "display_data"
    },
    {
     "data": {
      "image/svg+xml": [
       "<svg xmlns=\"http://www.w3.org/2000/svg\" xmlns:xlink=\"http://www.w3.org/1999/xlink\" version=\"1.1\" width=\"300pt\" height=\"200pt\" viewBox=\"0 0 300 200\">\n",
       "<title>Untitled</title>\n",
       "<path d=\"M37.712,164.88 Q30.512,160.4736,37.712,156.0672 Q30.512,147.2544,37.712,138.4416 L37.712,138.4416 Q30.512,134.0352,37.712,129.6288 Q30.512,125.2224,37.712,120.816 Q46.5536,113.616,55.3952,120.816 Q73.0784,113.616,90.7616,120.816 L90.7616,120.816 Q99.6032,113.616,108.4448,120.816 Q117.2864,113.616,126.128,120.816 Q133.328,125.2224,126.128,129.6288 Q133.328,138.4416,126.128,147.2544 L126.128,147.2544 Q133.328,151.6608,126.128,156.0672 Q133.328,160.4736,126.128,164.88 Q117.2864,172.08,108.4448,164.88 Q90.7616,172.08,73.0784,164.88 L73.0784,164.88 Q64.2368,172.08,55.3952,164.88 Q46.5536,172.08,37.712,164.88 z M55.568,135.216 Q62.768,142.848,55.568,150.48 Q60.8384,143.28,66.1088,150.48 Q76.6496,143.28,87.1904,150.48 L87.1904,150.48 Q92.4608,143.28,97.7312,150.48 Q103.0016,143.28,108.272,150.48 Q101.072,142.848,108.272,135.216 Q103.0016,142.416,97.7312,135.216 Q87.1904,142.416,76.6496,135.216 L76.6496,135.216 Q71.3792,142.416,66.1088,135.216 Q60.8384,142.416,55.568,135.216 z M20.576,99.072 Q32.8448,91.872,45.1136,99.072 Q69.6512,91.872,94.1888,99.072 L94.1888,99.072 Q106.4576,91.872,118.7264,99.072 Q130.9952,91.872,143.264,99.072 Q150.464,106.272,143.264,113.472 Q130.9952,120.672,118.7264,113.472 Q94.1888,120.672,69.6512,113.472 L69.6512,113.472 Q57.3824,120.672,45.1136,113.472 Q32.8448,120.672,20.576,113.472 Q13.376,106.272,20.576,99.072 z M127.712,91.728 Q118.712,98.928,109.712,91.728 Q91.712,98.928,73.712,91.728 L73.712,91.728 Q64.712,98.928,55.712,91.728 Q46.712,98.928,37.712,91.728 Q30.512,74.016,37.712,56.304 Q44.696,49.104,51.68,56.304 Q65.648,49.104,79.616,56.304 L79.616,56.304 Q86.6,49.104,93.584,56.304 Q100.568,49.104,107.552,56.304 Q100.352,52.56,107.552,48.816 Q100.5248,56.016,93.4976,48.816 Q79.4432,56.016,65.3888,48.816 L65.3888,48.816 Q58.3616,56.016,51.3344,48.816 Q44.3072,56.016,37.28,48.816 Q30.08,41.688,37.28,34.56 Q46.0928,27.36,54.9056,34.56 Q72.5312,27.36,90.1568,34.56 L90.1568,34.56 Q98.9696,27.36,107.7824,34.56 Q116.5952,27.36,125.408,34.56 Q132.608,52.272,125.408,69.984 Q118.424,77.184,111.44,69.984 Q97.472,77.184,83.504,69.984 L83.504,69.984 Q76.52,77.184,69.536,69.984 Q62.552,77.184,55.568,69.984 Q62.768,73.728,55.568,77.472 Q62.7824,70.272,69.9968,77.472 Q84.4256,70.272,98.8544,77.472 L98.8544,77.472 Q106.0688,70.272,113.2832,77.472 Q120.4976,70.272,127.712,77.472 Q134.912,84.6,127.712,91.728 z\" fill=\"rgb(240,240,240)\" stroke=\"rgb(40,40,40)\" stroke-miterlimit=\"10\"/>\n",
       "</svg>"
      ],
      "text/plain": [
       "<IPython.core.display.SVG object>"
      ]
     },
     "metadata": {},
     "output_type": "display_data"
    },
    {
     "data": {
      "image/svg+xml": [
       "<svg xmlns=\"http://www.w3.org/2000/svg\" xmlns:xlink=\"http://www.w3.org/1999/xlink\" version=\"1.1\" width=\"300pt\" height=\"200pt\" viewBox=\"0 0 300 200\">\n",
       "<title>Untitled</title>\n",
       "<path d=\"M77.672,130.32 Q76.988,138.96,61.904,133.2 Q46.82,138.96,46.136,130.32 Q33.572,133.488,35.408,122.256 Q25.148,123.336,29.288,110.016 Q21.116,109.44,27.344,94.464 Q20.144,86.472,27.344,78.48 Q21.116,63.54,29.288,63 Q25.148,49.644,35.408,50.688 Q33.572,39.456,46.136,42.624 Q46.82,33.984,61.904,39.744 Q76.988,33.984,77.672,42.624 Q90.236,39.456,88.4,50.688 Q98.66,49.644,94.52,63 Q102.692,63.54,96.464,78.48 Q103.664,86.472,96.464,94.464 Q102.692,109.44,94.52,110.016 Q98.66,123.336,88.4,122.256 Q90.236,133.488,77.672,130.32 z M75.08,62.064 Q61.292,66.096,61.904,55.728 Q62.516,66.096,48.728,62.064 Q53.948,78.552,44.768,80.64 Q51.968,86.472,44.768,92.304 Q53.948,94.392,48.728,110.88 Q62.516,106.848,61.904,117.216 Q61.292,106.848,75.08,110.88 Q69.86,94.392,79.04,92.304 Q71.84,86.472,79.04,80.64 Q69.86,78.552,75.08,62.064 z M133.328,30.816 Q140.528,44.208,133.328,57.6 Q140.528,70.992,133.328,84.384 Q140.528,97.776,133.328,111.168 Q140.528,137.952,133.328,164.736 L133.328,164.736 Q124.184,171.936,115.04,164.736 Q107.84,151.344,115.04,137.952 Q107.84,124.56,115.04,111.168 Q107.84,97.776,115.04,84.384 Q107.84,57.6,115.04,30.816 L115.04,30.816 Q124.184,23.616,133.328,30.816 z\" fill=\"rgb(240,240,240)\" stroke=\"rgb(40,40,40)\" stroke-miterlimit=\"10\"/>\n",
       "</svg>"
      ],
      "text/plain": [
       "<IPython.core.display.SVG object>"
      ]
     },
     "metadata": {},
     "output_type": "display_data"
    },
    {
     "data": {
      "image/svg+xml": [
       "<svg xmlns=\"http://www.w3.org/2000/svg\" xmlns:xlink=\"http://www.w3.org/1999/xlink\" version=\"1.1\" width=\"300pt\" height=\"200pt\" viewBox=\"0 0 300 200\">\n",
       "<title>Untitled</title>\n",
       "<path d=\"M88.112,37.296 Q95.312,43.0704,88.112,48.8448 Q95.312,60.3936,88.112,71.9424 Q95.312,77.7168,88.112,83.4912 L88.112,83.4912 Q95.312,89.2656,88.112,95.04 Q81.8624,102.24,75.6128,95.04 Q63.1136,102.24,50.6144,95.04 Q44.3648,102.24,38.1152,95.04 L38.1152,95.04 Q31.8656,102.24,25.616,95.04 Q18.416,89.2656,25.616,83.4912 Q18.416,71.9424,25.616,60.3936 Q18.416,54.6192,25.616,48.8448 L25.616,48.8448 Q18.416,43.0704,25.616,37.296 Q31.8656,30.096,38.1152,37.296 Q50.6144,30.096,63.1136,37.296 Q69.3632,30.096,75.6128,37.296 L75.6128,37.296 Q81.8624,30.096,88.112,37.296 z M70.112,80.064 Q62.912,66.168,70.112,52.272 Q56.864,59.472,43.616,52.272 Q50.816,66.168,43.616,80.064 Q56.864,72.864,70.112,80.064 z M126.848,30.816 Q134.048,42.552,126.848,54.288 Q135.632,47.088,144.416,54.288 Q151.616,62.208,144.416,70.128 Q135.632,77.328,126.848,70.128 Q134.048,82.584,126.848,95.04 Q117.776,102.24,108.704,95.04 Q101.504,88.6176,108.704,82.1952 Q101.504,69.3504,108.704,56.5056 Q101.504,50.0832,108.704,43.6608 L108.704,43.6608 Q101.504,37.2384,108.704,30.816 Q117.776,23.616,126.848,30.816 z M114.896,101.088 Q122.096,105.984,114.896,110.88 Q126.056,103.68,137.216,110.88 Q144.416,118.08,137.216,125.28 Q130.9664,132.48,124.7168,125.28 Q112.2176,132.48,99.7184,125.28 Q93.4688,132.48,87.2192,125.28 L87.2192,125.28 Q80.9696,132.48,74.72,125.28 Q67.52,118.08,74.72,110.88 Q85.736,103.68,96.752,110.88 Q89.552,105.984,96.752,101.088 Q105.824,93.888,114.896,101.088 z M54.56,109.296 Q61.76,128.52,54.56,147.744 Q52.256,140.436,64.352,147.528 Q62.408,139.86,74.864,146.592 Q82.928,146.808,76.592,161.424 Q80.912,169.02,70.832,162.216 Q74.756,169.704,64.28,162.792 Q68.096,170.136,57.512,163.08 Q61.58,170.316,51.248,163.152 Q43.976,170.352,36.704,163.152 Q29.504,157.7664,36.704,152.3808 Q29.504,141.6096,36.704,130.8384 Q29.504,125.4528,36.704,120.0672 L36.704,120.0672 Q29.504,114.6816,36.704,109.296 Q45.632,102.096,54.56,109.296 z M116.336,165.816 Q118.352,173.628,105.968,167.04 Q93.584,173.628,95.6,165.816 Q84.296,171.324,87.392,162.432 Q77.492,166.968,81.992,157.104 Q73.82,160.776,80.048,150.048 Q72.848,147.888,80.048,145.728 Q73.82,135,81.992,138.672 Q77.492,128.808,87.392,133.344 Q84.296,124.452,95.6,129.96 Q93.584,122.148,105.968,128.736 Q118.352,122.148,116.336,129.96 Q127.64,124.452,124.544,133.344 Q134.444,128.808,129.944,138.672 Q138.116,135,131.888,145.728 Q139.088,147.888,131.888,150.048 Q138.116,160.776,129.944,157.104 Q134.444,166.968,124.544,162.432 Q127.64,171.324,116.336,165.816 z M113.312,143.28 Q102.44,149.616,105.968,141.552 Q109.496,149.616,98.624,143.28 Q104.672,152.28,96.32,146.88 Q103.52,147.888,96.32,148.896 Q104.672,143.496,98.624,152.496 Q109.496,146.16,105.968,154.224 Q102.44,146.16,113.312,152.496 Q107.264,143.496,115.616,148.896 Q108.416,147.888,115.616,146.88 Q107.264,152.28,113.312,143.28 z\" fill=\"rgb(240,240,240)\" stroke=\"rgb(40,40,40)\" stroke-miterlimit=\"10\"/>\n",
       "</svg>"
      ],
      "text/plain": [
       "<IPython.core.display.SVG object>"
      ]
     },
     "metadata": {},
     "output_type": "display_data"
    },
    {
     "data": {
      "image/svg+xml": [
       "<svg xmlns=\"http://www.w3.org/2000/svg\" xmlns:xlink=\"http://www.w3.org/1999/xlink\" version=\"1.1\" width=\"300pt\" height=\"200pt\" viewBox=\"0 0 300 200\">\n",
       "<title>Untitled</title>\n",
       "<path d=\"M77.672,130.32 Q76.988,138.96,61.904,133.2 Q46.82,138.96,46.136,130.32 Q33.572,133.488,35.408,122.256 Q25.148,123.336,29.288,110.016 Q21.116,109.44,27.344,94.464 Q20.144,86.472,27.344,78.48 Q21.116,63.54,29.288,63 Q25.148,49.644,35.408,50.688 Q33.572,39.456,46.136,42.624 Q46.82,33.984,61.904,39.744 Q76.988,33.984,77.672,42.624 Q90.236,39.456,88.4,50.688 Q98.66,49.644,94.52,63 Q102.692,63.54,96.464,78.48 Q103.664,86.472,96.464,94.464 Q102.692,109.44,94.52,110.016 Q98.66,123.336,88.4,122.256 Q90.236,133.488,77.672,130.32 z M75.08,62.064 Q61.292,66.096,61.904,55.728 Q62.516,66.096,48.728,62.064 Q53.948,78.552,44.768,80.64 Q51.968,86.472,44.768,92.304 Q53.948,94.392,48.728,110.88 Q62.516,106.848,61.904,117.216 Q61.292,106.848,75.08,110.88 Q69.86,94.392,79.04,92.304 Q71.84,86.472,79.04,80.64 Q69.86,78.552,75.08,62.064 z M133.328,30.816 Q140.528,57.6,133.328,84.384 Q140.528,97.776,133.328,111.168 L133.328,111.168 Q140.528,124.56,133.328,137.952 Q140.528,151.344,133.328,164.736 Q124.184,171.936,115.04,164.736 Q107.84,137.952,115.04,111.168 Q107.84,97.776,115.04,84.384 L115.04,84.384 Q107.84,70.992,115.04,57.6 Q107.84,44.208,115.04,30.816 Q124.184,23.616,133.328,30.816 z\" fill=\"rgb(240,240,240)\" stroke=\"rgb(40,40,40)\" stroke-miterlimit=\"10\"/>\n",
       "</svg>"
      ],
      "text/plain": [
       "<IPython.core.display.SVG object>"
      ]
     },
     "metadata": {},
     "output_type": "display_data"
    },
    {
     "data": {
      "image/svg+xml": [
       "<svg xmlns=\"http://www.w3.org/2000/svg\" xmlns:xlink=\"http://www.w3.org/1999/xlink\" version=\"1.1\" width=\"300pt\" height=\"200pt\" viewBox=\"0 0 300 200\">\n",
       "<title>Untitled</title>\n",
       "<path d=\"M134.768,30.816 Q141.968,57.6,134.768,84.384 L134.768,84.384 Q141.968,97.776,134.768,111.168 Q141.968,137.952,134.768,164.736 L134.768,164.736 Q125.912,171.936,117.056,164.736 Q109.856,137.952,117.056,111.168 L117.056,111.168 Q109.856,97.776,117.056,84.384 Q109.856,57.6,117.056,30.816 L117.056,30.816 Q125.912,23.616,134.768,30.816 z M70.112,141.264 Q56.36,143.064,57.008,130.464 Q56.396,115.092,70.184,114.12 Q66.656,100.908,77.528,102.096 Q71.912,89.316,80.696,90.936 Q73.82,76.86,81.344,77.184 Q74.144,67.896,81.344,58.608 Q74.432,65.808,67.52,58.608 Q60.32,50.688,67.52,42.768 Q83.216,35.568,98.912,42.768 Q106.112,60.336,98.912,77.904 Q105.752,93.312,98.192,94.32 Q103.628,108.324,94.664,107.928 Q97.544,122.328,86.024,122.328 Q85.268,138.996,70.112,141.264 z M33.248,129.168 Q19.712,130.752,20.576,117.936 Q20.072,103.5,33.968,103.464 Q30.332,90.9,41.096,92.736 Q35.336,80.712,43.976,83.088 Q37.028,70.272,44.48,71.856 Q37.28,65.232,44.48,58.608 Q35.408,65.808,26.336,58.608 Q19.136,50.688,26.336,42.768 Q44.192,35.568,62.048,42.768 Q69.248,57.816,62.048,72.864 Q68.888,87.336,61.328,87.408 Q66.764,100.584,57.8,99.36 Q60.68,112.968,49.16,112.176 Q48.404,127.872,33.248,129.168 z\" fill=\"rgb(240,240,240)\" stroke=\"rgb(40,40,40)\" stroke-miterlimit=\"10\"/>\n",
       "</svg>"
      ],
      "text/plain": [
       "<IPython.core.display.SVG object>"
      ]
     },
     "metadata": {},
     "output_type": "display_data"
    },
    {
     "data": {
      "image/svg+xml": [
       "<svg xmlns=\"http://www.w3.org/2000/svg\" xmlns:xlink=\"http://www.w3.org/1999/xlink\" version=\"1.1\" width=\"300pt\" height=\"200pt\" viewBox=\"0 0 300 200\">\n",
       "<title>Untitled</title>\n",
       "<path d=\"M70.904,98.928 Q71.444,107.208,57.584,101.088 Q43.184,107.028,43.184,98.568 Q30.584,102.384,32.384,91.8 Q21.8,94.104,25.616,82.008 Q17.264,83.412,23.312,70.416 Q16.112,67.824,23.312,65.232 Q17.264,52.236,25.616,53.64 Q21.8,41.544,32.384,43.848 Q30.584,33.264,43.184,37.08 Q43.184,28.62,57.584,34.56 Q71.156,28.332,70.328,36.504 Q82.532,31.968,80.336,41.832 Q91.064,38.556,87.392,49.68 Q96.464,47.232,91.136,59.184 Q102.368,51.984,113.6,59.184 Q106.4,45,113.6,30.816 Q122.672,23.616,131.744,30.816 Q138.944,38.1456,131.744,45.4752 Q138.944,52.8048,131.744,60.1344 Q138.944,74.7936,131.744,89.4528 L131.744,89.4528 Q138.944,96.7824,131.744,104.112 Q122.672,111.312,113.6,104.112 Q106.4,89.352,113.6,74.592 Q102.584,81.792,91.568,74.592 Q97.076,86.868,88.184,84.744 Q91.892,96.156,81.2,93.168 Q83.252,103.248,70.904,98.928 z M95.888,159.048 Q98.84,169.596,87.392,165.744 Q75.908,169.596,78.824,159.048 Q67.844,162.972,71.264,152.496 Q61.58,157.032,66.296,147.168 Q57.98,152.784,64.064,144 Q69.896,153.072,61.328,147.744 Q66.008,157.464,56.288,152.784 Q59.564,163.368,48.44,159.552 Q51.932,169.776,41.024,165.6 Q28.712,166.68,30.8,153.36 Q27.524,143.064,38.648,147.168 Q35.372,136.656,46.496,140.544 Q41.42,131.22,50.744,136.296 Q44.84,127.08,53.336,132.264 Q46.784,122.868,54.632,127.872 Q47.612,117.936,54.992,122.4 Q47.792,116.712,54.992,111.024 Q63.92,103.824,72.848,111.024 Q80.048,116.568,72.848,122.112 Q80.156,117.54,73.064,127.368 Q80.66,122.22,73.856,131.472 Q81.92,126.036,75.584,135 Q84.296,129.564,78.608,138.528 Q87.752,133.236,82.496,142.344 Q92.144,137.196,87.392,146.448 Q82.676,137.16,92.36,142.272 Q87.14,133.2,96.32,138.528 Q90.596,129.564,99.272,135 Q92.9,126.072,100.928,131.544 Q94.088,122.292,101.648,127.44 Q94.52,117.576,101.792,122.112 Q94.592,116.568,101.792,111.024 Q110.72,103.824,119.648,111.024 Q126.848,116.712,119.648,122.4 Q127.028,117.972,120.008,127.944 Q127.856,122.94,121.304,132.336 Q129.8,127.116,123.896,136.296 Q133.292,131.22,128.288,140.544 Q139.412,136.692,136.136,147.24 Q147.26,143.1,143.984,153.36 Q146.144,166.536,133.904,165.312 Q124.94,171.144,130.376,162.576 Q121.196,168.12,126.416,159.264 Q117.164,164.736,122.312,155.808 Q113.204,161.352,118.496,152.496 Q107.552,155.448,111.008,144 Q117.02,152.892,108.632,147.384 Q113.204,157.14,103.376,152.496 Q106.832,162.972,95.888,159.048 z M64.784,51.408 Q53.984,57.888,57.584,49.968 Q61.184,57.888,50.384,51.408 Q54.92,60.444,45.056,55.08 Q50.6,64.8,41.744,60.12 Q48.368,70.092,40.592,65.664 Q47.792,67.824,40.592,69.984 Q48.368,65.556,41.744,75.528 Q50.6,70.848,45.056,80.568 Q54.92,75.204,50.384,84.24 Q61.184,77.76,57.584,85.68 Q53.984,77.76,64.784,84.24 Q60.248,75.204,70.112,80.568 Q64.568,70.848,73.424,75.528 Q66.8,65.556,74.576,69.984 Q67.376,67.824,74.576,65.664 Q66.8,70.092,73.424,60.12 Q64.568,64.8,70.112,55.08 Q60.248,60.444,64.784,51.408 z\" fill=\"rgb(240,240,240)\" stroke=\"rgb(40,40,40)\" stroke-miterlimit=\"10\"/>\n",
       "</svg>"
      ],
      "text/plain": [
       "<IPython.core.display.SVG object>"
      ]
     },
     "metadata": {},
     "output_type": "display_data"
    },
    {
     "data": {
      "image/svg+xml": [
       "<svg xmlns=\"http://www.w3.org/2000/svg\" xmlns:xlink=\"http://www.w3.org/1999/xlink\" version=\"1.1\" width=\"300pt\" height=\"200pt\" viewBox=\"0 0 300 200\">\n",
       "<title>Untitled</title>\n",
       "<path d=\"M37.712,164.736 Q30.512,155.3472,37.712,145.9584 L37.712,145.9584 Q30.512,136.5696,37.712,127.1808 L37.712,127.1808 Q30.512,122.4864,37.712,117.792 Q55.3952,110.592,73.0784,117.792 L73.0784,117.792 Q90.7616,110.592,108.4448,117.792 L108.4448,117.792 Q117.2864,110.592,126.128,117.792 Q133.328,127.1808,126.128,136.5696 L126.128,136.5696 Q133.328,145.9584,126.128,155.3472 L126.128,155.3472 Q133.328,160.0416,126.128,164.736 Q108.4448,171.936,90.7616,164.736 L90.7616,164.736 Q73.0784,171.936,55.3952,164.736 L55.3952,164.736 Q46.5536,171.936,37.712,164.736 z M55.712,132.336 Q62.912,141.264,55.712,150.192 Q66.1952,142.992,76.6784,150.192 L76.6784,150.192 Q87.1616,142.992,97.6448,150.192 L97.6448,150.192 Q102.8864,142.992,108.128,150.192 Q100.928,141.264,108.128,132.336 Q97.6448,139.536,87.1616,132.336 L87.1616,132.336 Q76.6784,139.536,66.1952,132.336 L66.1952,132.336 Q60.9536,139.536,55.712,132.336 z M20.576,93.456 Q45.1136,86.256,69.6512,93.456 L69.6512,93.456 Q94.1888,86.256,118.7264,93.456 L118.7264,93.456 Q130.9952,86.256,143.264,93.456 Q150.464,100.8,143.264,108.144 Q118.7264,115.344,94.1888,108.144 L94.1888,108.144 Q69.6512,115.344,45.1136,108.144 L45.1136,108.144 Q32.8448,115.344,20.576,108.144 Q13.376,100.8,20.576,93.456 z M99.632,84.168 Q97.976,92.196,81.92,85.824 Q65.864,92.196,64.208,84.168 Q50.06,88.956,50.312,79.344 Q38.576,82.62,41.24,71.496 Q32.42,73.332,38,60.768 Q30.8,59.04,38,57.312 Q32.42,44.748,41.24,46.584 Q38.576,35.46,50.312,38.736 Q50.06,29.124,64.208,33.912 Q65.864,25.884,81.92,32.256 Q97.976,25.884,99.632,33.912 Q113.78,29.124,113.528,38.736 Q125.264,35.46,122.6,46.584 Q131.42,44.748,125.84,57.312 Q133.04,59.04,125.84,60.768 Q131.42,73.332,122.6,71.496 Q125.264,82.62,113.528,79.344 Q113.78,88.956,99.632,84.168 z M92.144,47.592 Q79.832,54.396,81.92,46.8 Q84.008,54.396,71.696,47.592 Q74.792,55.944,63.488,49.896 Q67.952,58.86,58.016,53.424 Q64.208,62.856,56,57.888 Q63.2,59.04,56,60.192 Q64.208,55.224,58.016,64.656 Q67.952,59.22,63.488,68.184 Q74.792,62.136,71.696,70.488 Q84.008,63.684,81.92,71.28 Q79.832,63.684,92.144,70.488 Q89.048,62.136,100.352,68.184 Q95.888,59.22,105.824,64.656 Q99.632,55.224,107.84,60.192 Q100.64,59.04,107.84,57.888 Q99.632,62.856,105.824,53.424 Q95.888,58.86,100.352,49.896 Q89.048,55.944,92.144,47.592 z\" fill=\"rgb(240,240,240)\" stroke=\"rgb(40,40,40)\" stroke-miterlimit=\"10\"/>\n",
       "</svg>"
      ],
      "text/plain": [
       "<IPython.core.display.SVG object>"
      ]
     },
     "metadata": {},
     "output_type": "display_data"
    }
   ],
   "source": [
    "input_letters = [\"구\", \"름\", \"이\", \"많\", \"이\", \"끼\", \"었\", \"음\"]  \n",
    "av = 50\n",
    "\n",
    "for letter in input_letters:\n",
    "    glyph_origin = glyphcommands(f, letter)    \n",
    "    glyph_origin_direct = get_dir_list(glyph_origin)\n",
    "    cutted_glyph = cut_glyph([\"+right\", \"+left\", \"+up\", \"+down\"], 5, glyph_origin, glyph_origin_direct)\n",
    "\n",
    "    cutted_glyph_direct = get_dir_list(cutted_glyph)\n",
    "\n",
    "    mod_glyph = make_design_glyph(cutted_glyph, cutted_glyph_direct, av)\n",
    "    mod_path = Path(mod_glyph)\n",
    "    \n",
    "    page = document(300, 200, 'pt').addpage()\n",
    "    pen = shape().stroke(rgb(40, 40, 40)).fill(rgb(240, 240, 240))\n",
    "    page.place(pen.path(mod_path.scale(144/f.density).translate(20, 144)))\n",
    "    \n",
    "    show(page)"
   ]
  }
 ],
 "metadata": {
  "kernelspec": {
   "display_name": "Python 3 (ipykernel)",
   "language": "python",
   "name": "python3"
  },
  "language_info": {
   "codemirror_mode": {
    "name": "ipython",
    "version": 3
   },
   "file_extension": ".py",
   "mimetype": "text/x-python",
   "name": "python",
   "nbconvert_exporter": "python",
   "pygments_lexer": "ipython3",
   "version": "3.9.7"
  }
 },
 "nbformat": 4,
 "nbformat_minor": 5
}

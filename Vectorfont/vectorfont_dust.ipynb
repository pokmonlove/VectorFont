{
 "cells": [
  {
   "cell_type": "markdown",
   "metadata": {},
   "source": [
    "## 1. 라이브러리 로드"
   ]
  },
  {
   "cell_type": "code",
   "execution_count": 1,
   "metadata": {},
   "outputs": [],
   "source": [
    "from flat import document, rgb, rgba, font, strike, shape\n",
    "from flat.command import moveto, quadto, curveto, lineto, closepath\n",
    "from bezmerizing import Polyline, Path\n",
    "import numpy as np\n",
    "from copy import copy\n",
    "\n",
    "from numpy.random import uniform, normal, choice\n",
    "\n",
    "from IPython.display import SVG, display  # Scalable Vector Graphics, SVG\n",
    "def show(page):\n",
    "    display(SVG(page.svg()))"
   ]
  },
  {
   "cell_type": "markdown",
   "id": "4396b68e",
   "metadata": {},
   "source": [
    "## 2. 자주 사용할 함수 정의"
   ]
  },
  {
   "cell_type": "code",
   "execution_count": 2,
   "id": "95545589",
   "metadata": {},
   "outputs": [],
   "source": [
    "def glyphcommands(f, ch):\n",
    "    return Path([copy(cmd) for cmd in f.glyph(f.charmap[ord(ch)])])\n",
    "\n",
    "def advancefor(f, ch):\n",
    "    return f.advances[f.charmap[ord(ch)]]"
   ]
  },
  {
   "cell_type": "markdown",
   "metadata": {},
   "source": [
    "## 3. 데이터 로드"
   ]
  },
  {
   "cell_type": "code",
   "execution_count": 3,
   "metadata": {},
   "outputs": [
    {
     "name": "stdout",
     "output_type": "stream",
     "text": [
      "폰트명: b'NanumSquare_acEB'\n",
      "Density: 1000\n"
     ]
    },
    {
     "data": {
      "image/svg+xml": "<svg xmlns=\"http://www.w3.org/2000/svg\" xmlns:xlink=\"http://www.w3.org/1999/xlink\" version=\"1.1\" width=\"300pt\" height=\"200pt\" viewBox=\"0 0 300 200\">\n<title>Untitled</title>\n<path d=\"M7.056,57.888 L7.056,42.336 L78.48,42.336 L78.48,57.888 L52.56,57.888 L52.56,73.152 Q52.56,77.328,52.992,80.712 Q53.424,84.096,54.504,87.12 Q55.584,90.144,57.6,93.168 Q59.616,96.192,62.928,99.648 Q67.536,104.688,72.936,110.016 Q78.336,115.344,83.808,120.24 L72.144,132.336 Q67.536,128.016,62.928,123.48 Q58.32,118.944,54.288,114.768 Q50.112,110.592,47.232,107.208 Q44.352,103.824,43.632,102.096 L43.344,102.096 Q42.336,104.112,39.168,107.856 Q36,111.6,32.4,115.344 Q28.368,119.52,24.048,123.912 Q19.728,128.304,13.68,133.776 L1.728,121.536 Q13.536,111.024,23.04,100.656 Q26.208,97.056,28.368,94.032 Q30.528,91.008,31.824,87.84 Q33.12,84.672,33.624,81.144 Q34.128,77.616,34.128,73.152 L34.128,57.888 L7.056,57.888 z M113.328,30.816 L113.328,164.736 L95.04,164.736 L95.04,30.816 L113.328,30.816 z\" fill=\"rgb(240,240,240)\" stroke=\"rgb(40,40,40)\" stroke-miterlimit=\"10\"/>\n</svg>",
      "text/plain": [
       "<IPython.core.display.SVG object>"
      ]
     },
     "metadata": {},
     "output_type": "display_data"
    }
   ],
   "source": [
    "f = font.open(\"fonts/NanumSquare_0.ttf\")\n",
    "path_list = glyphcommands(f,\"지\")\n",
    "cmd_list = path_list.commands\n",
    "\n",
    "print(\"폰트명:\", f.name)\n",
    "print(\"Density:\", f.density)\n",
    "\n",
    "page = document(300, 200, 'pt').addpage()\n",
    "pen = shape().stroke(rgb(40, 40, 40)).fill(rgb(240, 240, 240))\n",
    "page.place(pen.path(path_list.scale(144/f.density).translate(0, 144)))\n",
    "\n",
    "show(page)"
   ]
  },
  {
   "cell_type": "code",
   "execution_count": 4,
   "metadata": {},
   "outputs": [],
   "source": [
    "def get_dir_of_glyph(cmd, pre_x, pre_y):\n",
    "    \n",
    "    direct = \"\"    \n",
    "    if type(cmd) == moveto:\n",
    "        direct += \"start\"\n",
    "        return direct\n",
    "\n",
    "    # 좌우\n",
    "    if cmd.x > pre_x:\n",
    "        direct += \"right\"\n",
    "    elif cmd.x < pre_x:\n",
    "        direct += \"left\"\n",
    "    else:\n",
    "        direct += \"\"\n",
    "    \n",
    "    # 상하\n",
    "    if cmd.y > pre_y:\n",
    "        direct += \"down\"\n",
    "    elif cmd.y < pre_y:\n",
    "        direct += \"up\"\n",
    "    else:\n",
    "        direct += \"\"\n",
    "        \n",
    "    return direct"
   ]
  },
  {
   "cell_type": "code",
   "execution_count": 5,
   "metadata": {},
   "outputs": [],
   "source": [
    "def get_dir_list(path):\n",
    "    dir_list = []\n",
    "    \n",
    "    pre_x, pre_y = -9999, -9999\n",
    "    for idx, cmd in enumerate(path):\n",
    "        if type(cmd) == moveto:\n",
    "            pre_x = cmd.x\n",
    "            pre_y = cmd.y\n",
    "            direct = get_dir_of_glyph(cmd, pre_x, pre_y)\n",
    "            dir_list.append(direct)\n",
    "        elif type(cmd) in (lineto, quadto, curveto):\n",
    "            direct = get_dir_of_glyph(cmd, pre_x, pre_y)\n",
    "            dir_list.append(direct)\n",
    "            pre_x = cmd.x\n",
    "            pre_y = cmd.y\n",
    "        else:\n",
    "            dir_list.append(\"fin\")\n",
    "\n",
    "    print(dir_list)\n",
    "    \n",
    "    return dir_list"
   ]
  },
  {
   "cell_type": "code",
   "execution_count": 6,
   "metadata": {},
   "outputs": [],
   "source": [
    "#import numpy as np\n",
    "def cut_glyph(direct, path):\n",
    "    # c를 리스트에 어펜드\n",
    "    # num = 나누는 수\n",
    "    result = []\n",
    "    pre_x = -9999\n",
    "    pre_y = -9999\n",
    "\n",
    "    for idx, cmd in enumerate(path):\n",
    "        num=1\n",
    "        if type(cmd) == moveto:\n",
    "            pre_x = cmd.x\n",
    "            pre_y = cmd.y\n",
    "            c = moveto(cmd.x,cmd.y)\n",
    "            result.append(c)\n",
    "\n",
    "        elif type(cmd) == lineto:\n",
    "            if direct[idx] == \"right\":\n",
    "                \n",
    "                if abs(cmd.x - pre_x) > 500:\n",
    "                    num = 8\n",
    "                elif 400 <= abs(cmd.x - pre_x) and abs(cmd.x - pre_x) < 500:\n",
    "                    num = 5    \n",
    "                elif 200 <= abs(cmd.x - pre_x) and abs(cmd.x - pre_x) < 400:\n",
    "                    num = 3\n",
    "                else:\n",
    "                    num = 2\n",
    "\n",
    "                for i in  range(1, num + 1):\n",
    "                    temp_x = pre_x + i * abs(cmd.x - pre_x) / num\n",
    "                    c = lineto(temp_x, cmd.y)\n",
    "                    result.append(c)\n",
    "\n",
    "            elif direct[idx] == \"down\":\n",
    "\n",
    "                if abs(cmd.y - pre_y) > 500:\n",
    "                    num = 10\n",
    "                elif 400 <= abs(cmd.y - pre_y) and abs(cmd.y - pre_y) < 500:\n",
    "                    num = 5    \n",
    "                elif 200 <= abs(cmd.y - pre_y) and abs(cmd.y - pre_y) < 400:\n",
    "                    num = 3\n",
    "                else:\n",
    "                    num = 2\n",
    "\n",
    "\n",
    "                for i in  range(1, num + 1):\n",
    "                    temp_y = pre_y + i * abs(cmd.y - pre_y) / num \n",
    "                    c = lineto(cmd.x, temp_y)\n",
    "                    result.append(c)\n",
    "\n",
    "            elif direct[idx] == \"left\":\n",
    "\n",
    "                if abs(cmd.x - pre_x) > 500:\n",
    "                    num = 8\n",
    "                elif 400 <= abs(cmd.x - pre_x) and abs(cmd.x - pre_x) < 500:\n",
    "                    num = 5    \n",
    "                elif 200 <= abs(cmd.x - pre_x) and abs(cmd.x - pre_x) < 400:\n",
    "                    num = 3\n",
    "                else:\n",
    "                    num = 2\n",
    "\n",
    "                for i in  range(1, num + 1):\n",
    "                    temp_x = pre_x - i * abs(cmd.x - pre_x) / num\n",
    "                    c = lineto(temp_x, cmd.y)\n",
    "                    result.append(c)\n",
    "\n",
    "            elif direct[idx] == \"up\":\n",
    "\n",
    "                if abs(cmd.y - pre_y) > 500:\n",
    "                    num = 8\n",
    "                elif 400 <= abs(cmd.y - pre_y) and abs(cmd.y - pre_y) < 500:\n",
    "                    num = 5    \n",
    "                elif 200 <= abs(cmd.y - pre_y) and abs(cmd.y - pre_y) < 400:\n",
    "                    num = 3\n",
    "                else:\n",
    "                    num = 2\n",
    "                    \n",
    "                for i in  range(1, num + 1):\n",
    "                    temp_y = pre_y - i * abs(cmd.y - pre_y) / num\n",
    "                    c = lineto(cmd.x, temp_y)\n",
    "                    result.append(c)\n",
    "\n",
    "            else:\n",
    "                c = lineto(cmd.x, cmd.y)\n",
    "                result.append(c)\n",
    "\n",
    "            pre_x = cmd.x\n",
    "            pre_y = cmd.y\n",
    "                    \n",
    "\n",
    "        elif type(cmd) in (quadto, curveto):\n",
    "            if type(cmd) == quadto:\n",
    "                c = quadto(cmd.x1, cmd.y1, cmd.x, cmd.y)\n",
    "                result.append(c)\n",
    "                pre_x = cmd.x\n",
    "                pre_y = cmd.y\n",
    "            elif type(cmd) == curveto:\n",
    "                c = curveto(cmd.x1, cmd.y1, cmd.x2, cmd.y2, cmd.x, cmd.y)\n",
    "                result.append(c)\n",
    "                pre_x = cmd.x\n",
    "                pre_y = cmd.y\n",
    "            \n",
    "\n",
    "        else:\n",
    "            c = closepath\n",
    "            result.append(c)\n",
    "\n",
    "    return result"
   ]
  },
  {
   "cell_type": "code",
   "execution_count": 7,
   "metadata": {},
   "outputs": [],
   "source": [
    "from itertools import chain\n",
    "def combine_path(f, s):\n",
    "    text_paths = []\n",
    "    cx = 0\n",
    "    for ch in s:\n",
    "        glyph_path = glyphcommands(f, ch).translate(cx, 0)\n",
    "        glyph_dir = get_dir_list(glyph_path)\n",
    "\n",
    "        mod_path = cut_glyph(glyph_dir,glyph_path)\n",
    "        \"\"\"\n",
    "        for i in Path(mod_path).commands:   # 잘렸는지 확인용\n",
    "            if hasattr(i, 'x') and hasattr(i, 'y'):\n",
    "                print(type(i), \":\", i.x, i.y)\n",
    "            else:\n",
    "                print(type(i))\n",
    "        \"\"\"\n",
    "        text_paths.append(Path(mod_path))\n",
    "        cx += advancefor(f, ch)\n",
    "    combined = Path(list(chain(*text_paths)))\n",
    "    return combined"
   ]
  },
  {
   "cell_type": "code",
   "execution_count": 8,
   "metadata": {},
   "outputs": [
    {
     "name": "stdout",
     "output_type": "stream",
     "text": [
      "['start', 'down', 'right', 'up', 'right', 'down', 'left', 'up', 'left', 'down', 'left', 'up', 'right', 'fin', 'start', 'down', 'right', 'down', 'left', 'up', 'right', 'fin', 'start', 'up', 'left', 'down', 'right', 'fin']\n",
      "['start', 'up', 'right', 'down', 'left', 'down', 'rightdown', 'rightdown', 'rightdown', 'rightdown', 'rightdown', 'rightdown', 'leftdown', 'leftup', 'leftup', 'leftup', 'leftup', 'left', 'leftdown', 'leftdown', 'leftdown', 'leftdown', 'leftup', 'rightup', 'rightup', 'rightup', 'rightup', 'rightup', 'up', 'left', 'fin', 'start', 'down', 'left', 'up', 'right', 'fin']\n"
     ]
    },
    {
     "data": {
      "image/svg+xml": "<svg xmlns=\"http://www.w3.org/2000/svg\" xmlns:xlink=\"http://www.w3.org/1999/xlink\" version=\"1.1\" width=\"300pt\" height=\"200pt\" viewBox=\"0 0 300 200\">\n<title>Untitled</title>\n<circle cx=\"89.408\" cy=\"44.82\" r=\"6\" fill=\"rgba(0,0,0,0.251)\"/>\n<circle cx=\"89.408\" cy=\"56.988\" r=\"6\" fill=\"rgba(0,0,0,0.251)\"/>\n<circle cx=\"95.456\" cy=\"63.072\" r=\"11\" fill=\"rgba(0,0,0,0.251)\"/>\n<circle cx=\"107.552\" cy=\"63.072\" r=\"6\" fill=\"rgba(0,0,0,0.251)\"/>\n<circle cx=\"113.6\" cy=\"57.696\" r=\"8\" fill=\"rgba(0,0,0,0.251)\"/>\n<circle cx=\"113.6\" cy=\"46.944\" r=\"10\" fill=\"rgba(0,0,0,0.251)\"/>\n<circle cx=\"113.6\" cy=\"36.192\" r=\"11\" fill=\"rgba(0,0,0,0.251)\"/>\n<circle cx=\"118.136\" cy=\"30.816\" r=\"11\" fill=\"rgba(0,0,0,0.251)\"/>\n<circle cx=\"127.208\" cy=\"30.816\" r=\"8\" fill=\"rgba(0,0,0,0.251)\"/>\n<circle cx=\"131.744\" cy=\"35.5824\" r=\"6\" fill=\"rgba(0,0,0,0.251)\"/>\n<circle cx=\"131.744\" cy=\"45.1152\" r=\"10\" fill=\"rgba(0,0,0,0.251)\"/>\n<circle cx=\"131.744\" cy=\"54.648\" r=\"10\" fill=\"rgba(0,0,0,0.251)\"/>\n<circle cx=\"131.744\" cy=\"64.1808\" r=\"9\" fill=\"rgba(0,0,0,0.251)\"/>\n<circle cx=\"131.744\" cy=\"73.7136\" r=\"7\" fill=\"rgba(0,0,0,0.251)\"/>\n<circle cx=\"131.744\" cy=\"83.2464\" r=\"7\" fill=\"rgba(0,0,0,0.251)\"/>\n<circle cx=\"131.744\" cy=\"92.7792\" r=\"10\" fill=\"rgba(0,0,0,0.251)\"/>\n<circle cx=\"131.744\" cy=\"102.312\" r=\"9\" fill=\"rgba(0,0,0,0.251)\"/>\n<circle cx=\"131.744\" cy=\"111.8448\" r=\"7\" fill=\"rgba(0,0,0,0.251)\"/>\n<circle cx=\"131.744\" cy=\"121.3776\" r=\"6\" fill=\"rgba(0,0,0,0.251)\"/>\n<circle cx=\"127.208\" cy=\"126.144\" r=\"6\" fill=\"rgba(0,0,0,0.251)\"/>\n<circle cx=\"118.136\" cy=\"126.144\" r=\"8\" fill=\"rgba(0,0,0,0.251)\"/>\n<circle cx=\"113.6\" cy=\"118.2\" r=\"10\" fill=\"rgba(0,0,0,0.251)\"/>\n<circle cx=\"113.6\" cy=\"102.312\" r=\"9\" fill=\"rgba(0,0,0,0.251)\"/>\n<circle cx=\"113.6\" cy=\"86.424\" r=\"7\" fill=\"rgba(0,0,0,0.251)\"/>\n<circle cx=\"107.552\" cy=\"78.48\" r=\"6\" fill=\"rgba(0,0,0,0.251)\"/>\n<circle cx=\"95.456\" cy=\"78.48\" r=\"9\" fill=\"rgba(0,0,0,0.251)\"/>\n<circle cx=\"89.408\" cy=\"84.924\" r=\"6\" fill=\"rgba(0,0,0,0.251)\"/>\n<circle cx=\"89.408\" cy=\"97.812\" r=\"6\" fill=\"rgba(0,0,0,0.251)\"/>\n<circle cx=\"83.0864\" cy=\"104.256\" r=\"8\" fill=\"rgba(0,0,0,0.251)\"/>\n<circle cx=\"70.4432\" cy=\"104.256\" r=\"11\" fill=\"rgba(0,0,0,0.251)\"/>\n<circle cx=\"57.8\" cy=\"104.256\" r=\"11\" fill=\"rgba(0,0,0,0.251)\"/>\n<circle cx=\"45.1568\" cy=\"104.256\" r=\"11\" fill=\"rgba(0,0,0,0.251)\"/>\n<circle cx=\"32.5136\" cy=\"104.256\" r=\"11\" fill=\"rgba(0,0,0,0.251)\"/>\n<circle cx=\"26.192\" cy=\"97.704\" r=\"9\" fill=\"rgba(0,0,0,0.251)\"/>\n<circle cx=\"26.192\" cy=\"84.6\" r=\"8\" fill=\"rgba(0,0,0,0.251)\"/>\n<circle cx=\"26.192\" cy=\"71.496\" r=\"10\" fill=\"rgba(0,0,0,0.251)\"/>\n<circle cx=\"26.192\" cy=\"58.392\" r=\"11\" fill=\"rgba(0,0,0,0.251)\"/>\n<circle cx=\"26.192\" cy=\"45.288\" r=\"9\" fill=\"rgba(0,0,0,0.251)\"/>\n<circle cx=\"32.5136\" cy=\"38.736\" r=\"9\" fill=\"rgba(0,0,0,0.251)\"/>\n<circle cx=\"45.1568\" cy=\"38.736\" r=\"10\" fill=\"rgba(0,0,0,0.251)\"/>\n<circle cx=\"57.8\" cy=\"38.736\" r=\"8\" fill=\"rgba(0,0,0,0.251)\"/>\n<circle cx=\"70.4432\" cy=\"38.736\" r=\"6\" fill=\"rgba(0,0,0,0.251)\"/>\n<circle cx=\"83.0864\" cy=\"38.736\" r=\"10\" fill=\"rgba(0,0,0,0.251)\"/>\n<circle cx=\"64.784\" cy=\"123.264\" r=\"9\" fill=\"rgba(0,0,0,0.251)\"/>\n<circle cx=\"64.784\" cy=\"133.056\" r=\"10\" fill=\"rgba(0,0,0,0.251)\"/>\n<circle cx=\"64.784\" cy=\"142.848\" r=\"11\" fill=\"rgba(0,0,0,0.251)\"/>\n<circle cx=\"71.696\" cy=\"147.744\" r=\"9\" fill=\"rgba(0,0,0,0.251)\"/>\n<circle cx=\"85.52\" cy=\"147.744\" r=\"11\" fill=\"rgba(0,0,0,0.251)\"/>\n<circle cx=\"99.344\" cy=\"147.744\" r=\"8\" fill=\"rgba(0,0,0,0.251)\"/>\n<circle cx=\"113.168\" cy=\"147.744\" r=\"8\" fill=\"rgba(0,0,0,0.251)\"/>\n<circle cx=\"126.992\" cy=\"147.744\" r=\"10\" fill=\"rgba(0,0,0,0.251)\"/>\n<circle cx=\"133.904\" cy=\"151.632\" r=\"9\" fill=\"rgba(0,0,0,0.251)\"/>\n<circle cx=\"133.904\" cy=\"159.408\" r=\"8\" fill=\"rgba(0,0,0,0.251)\"/>\n<circle cx=\"128.441\" cy=\"163.296\" r=\"7\" fill=\"rgba(0,0,0,0.251)\"/>\n<circle cx=\"117.515\" cy=\"163.296\" r=\"11\" fill=\"rgba(0,0,0,0.251)\"/>\n<circle cx=\"106.589\" cy=\"163.296\" r=\"10\" fill=\"rgba(0,0,0,0.251)\"/>\n<circle cx=\"95.663\" cy=\"163.296\" r=\"6\" fill=\"rgba(0,0,0,0.251)\"/>\n<circle cx=\"84.737\" cy=\"163.296\" r=\"10\" fill=\"rgba(0,0,0,0.251)\"/>\n<circle cx=\"73.811\" cy=\"163.296\" r=\"9\" fill=\"rgba(0,0,0,0.251)\"/>\n<circle cx=\"62.885\" cy=\"163.296\" r=\"10\" fill=\"rgba(0,0,0,0.251)\"/>\n<circle cx=\"51.959\" cy=\"163.296\" r=\"8\" fill=\"rgba(0,0,0,0.251)\"/>\n<circle cx=\"46.496\" cy=\"155.808\" r=\"9\" fill=\"rgba(0,0,0,0.251)\"/>\n<circle cx=\"46.496\" cy=\"140.832\" r=\"11\" fill=\"rgba(0,0,0,0.251)\"/>\n<circle cx=\"46.496\" cy=\"125.856\" r=\"6\" fill=\"rgba(0,0,0,0.251)\"/>\n<circle cx=\"51.068\" cy=\"118.368\" r=\"8\" fill=\"rgba(0,0,0,0.251)\"/>\n<circle cx=\"60.212\" cy=\"118.368\" r=\"6\" fill=\"rgba(0,0,0,0.251)\"/>\n<circle cx=\"71.408\" cy=\"83.16\" r=\"11\" fill=\"rgba(0,0,0,0.251)\"/>\n<circle cx=\"71.408\" cy=\"71.496\" r=\"8\" fill=\"rgba(0,0,0,0.251)\"/>\n<circle cx=\"71.408\" cy=\"59.832\" r=\"7\" fill=\"rgba(0,0,0,0.251)\"/>\n<circle cx=\"64.604\" cy=\"54\" r=\"9\" fill=\"rgba(0,0,0,0.251)\"/>\n<circle cx=\"50.996\" cy=\"54\" r=\"10\" fill=\"rgba(0,0,0,0.251)\"/>\n<circle cx=\"44.192\" cy=\"59.832\" r=\"7\" fill=\"rgba(0,0,0,0.251)\"/>\n<circle cx=\"44.192\" cy=\"71.496\" r=\"6\" fill=\"rgba(0,0,0,0.251)\"/>\n<circle cx=\"44.192\" cy=\"83.16\" r=\"7\" fill=\"rgba(0,0,0,0.251)\"/>\n<circle cx=\"50.996\" cy=\"88.992\" r=\"6\" fill=\"rgba(0,0,0,0.251)\"/>\n<circle cx=\"64.604\" cy=\"88.992\" r=\"11\" fill=\"rgba(0,0,0,0.251)\"/>\n<circle cx=\"150.896\" cy=\"54\" r=\"9\" fill=\"rgba(0,0,0,0.251)\"/>\n<circle cx=\"150.896\" cy=\"46.224\" r=\"11\" fill=\"rgba(0,0,0,0.251)\"/>\n<circle cx=\"158.0384\" cy=\"42.336\" r=\"11\" fill=\"rgba(0,0,0,0.251)\"/>\n<circle cx=\"172.3232\" cy=\"42.336\" r=\"11\" fill=\"rgba(0,0,0,0.251)\"/>\n<circle cx=\"186.608\" cy=\"42.336\" r=\"7\" fill=\"rgba(0,0,0,0.251)\"/>\n<circle cx=\"200.8928\" cy=\"42.336\" r=\"11\" fill=\"rgba(0,0,0,0.251)\"/>\n<circle cx=\"215.1776\" cy=\"42.336\" r=\"7\" fill=\"rgba(0,0,0,0.251)\"/>\n<circle cx=\"222.32\" cy=\"46.224\" r=\"10\" fill=\"rgba(0,0,0,0.251)\"/>\n<circle cx=\"222.32\" cy=\"54\" r=\"11\" fill=\"rgba(0,0,0,0.251)\"/>\n<circle cx=\"215.84\" cy=\"57.888\" r=\"6\" fill=\"rgba(0,0,0,0.251)\"/>\n<circle cx=\"202.88\" cy=\"57.888\" r=\"7\" fill=\"rgba(0,0,0,0.251)\"/>\n<circle cx=\"196.4\" cy=\"61.704\" r=\"11\" fill=\"rgba(0,0,0,0.251)\"/>\n<circle cx=\"196.4\" cy=\"69.336\" r=\"11\" fill=\"rgba(0,0,0,0.251)\"/>\n<circle cx=\"196.616\" cy=\"76.932\" r=\"6\" fill=\"rgba(0,0,0,0.251)\"/>\n<circle cx=\"197.588\" cy=\"83.916\" r=\"10\" fill=\"rgba(0,0,0,0.251)\"/>\n<circle cx=\"199.892\" cy=\"90.144\" r=\"6\" fill=\"rgba(0,0,0,0.251)\"/>\n<circle cx=\"204.104\" cy=\"96.408\" r=\"6\" fill=\"rgba(0,0,0,0.251)\"/>\n<circle cx=\"211.772\" cy=\"104.832\" r=\"7\" fill=\"rgba(0,0,0,0.251)\"/>\n<circle cx=\"222.212\" cy=\"115.128\" r=\"6\" fill=\"rgba(0,0,0,0.251)\"/>\n<circle cx=\"221.816\" cy=\"126.288\" r=\"10\" fill=\"rgba(0,0,0,0.251)\"/>\n<circle cx=\"211.376\" cy=\"127.908\" r=\"6\" fill=\"rgba(0,0,0,0.251)\"/>\n<circle cx=\"202.448\" cy=\"119.124\" r=\"6\" fill=\"rgba(0,0,0,0.251)\"/>\n<circle cx=\"194.6\" cy=\"110.988\" r=\"9\" fill=\"rgba(0,0,0,0.251)\"/>\n<circle cx=\"189.272\" cy=\"104.652\" r=\"11\" fill=\"rgba(0,0,0,0.251)\"/>\n<circle cx=\"187.4\" cy=\"102.096\" r=\"7\" fill=\"rgba(0,0,0,0.251)\"/>\n<circle cx=\"187.256\" cy=\"102.096\" r=\"9\" fill=\"rgba(0,0,0,0.251)\"/>\n<circle cx=\"185.096\" cy=\"104.976\" r=\"11\" fill=\"rgba(0,0,0,0.251)\"/>\n<circle cx=\"179.624\" cy=\"111.6\" r=\"11\" fill=\"rgba(0,0,0,0.251)\"/>\n<circle cx=\"172.064\" cy=\"119.628\" r=\"7\" fill=\"rgba(0,0,0,0.251)\"/>\n<circle cx=\"162.704\" cy=\"128.844\" r=\"6\" fill=\"rgba(0,0,0,0.251)\"/>\n<circle cx=\"151.544\" cy=\"127.656\" r=\"11\" fill=\"rgba(0,0,0,0.251)\"/>\n<circle cx=\"156.224\" cy=\"111.096\" r=\"8\" fill=\"rgba(0,0,0,0.251)\"/>\n<circle cx=\"169.544\" cy=\"97.344\" r=\"6\" fill=\"rgba(0,0,0,0.251)\"/>\n<circle cx=\"173.936\" cy=\"90.936\" r=\"11\" fill=\"rgba(0,0,0,0.251)\"/>\n<circle cx=\"176.564\" cy=\"84.492\" r=\"7\" fill=\"rgba(0,0,0,0.251)\"/>\n<circle cx=\"177.716\" cy=\"77.148\" r=\"9\" fill=\"rgba(0,0,0,0.251)\"/>\n<circle cx=\"177.968\" cy=\"69.336\" r=\"7\" fill=\"rgba(0,0,0,0.251)\"/>\n<circle cx=\"177.968\" cy=\"61.704\" r=\"9\" fill=\"rgba(0,0,0,0.251)\"/>\n<circle cx=\"171.2\" cy=\"57.888\" r=\"11\" fill=\"rgba(0,0,0,0.251)\"/>\n<circle cx=\"157.664\" cy=\"57.888\" r=\"8\" fill=\"rgba(0,0,0,0.251)\"/>\n<circle cx=\"257.168\" cy=\"37.512\" r=\"8\" fill=\"rgba(0,0,0,0.251)\"/>\n<circle cx=\"257.168\" cy=\"50.904\" r=\"9\" fill=\"rgba(0,0,0,0.251)\"/>\n<circle cx=\"257.168\" cy=\"64.296\" r=\"6\" fill=\"rgba(0,0,0,0.251)\"/>\n<circle cx=\"257.168\" cy=\"77.688\" r=\"6\" fill=\"rgba(0,0,0,0.251)\"/>\n<circle cx=\"257.168\" cy=\"91.08\" r=\"11\" fill=\"rgba(0,0,0,0.251)\"/>\n<circle cx=\"257.168\" cy=\"104.472\" r=\"10\" fill=\"rgba(0,0,0,0.251)\"/>\n<circle cx=\"257.168\" cy=\"117.864\" r=\"11\" fill=\"rgba(0,0,0,0.251)\"/>\n<circle cx=\"257.168\" cy=\"131.256\" r=\"10\" fill=\"rgba(0,0,0,0.251)\"/>\n<circle cx=\"257.168\" cy=\"144.648\" r=\"7\" fill=\"rgba(0,0,0,0.251)\"/>\n<circle cx=\"257.168\" cy=\"158.04\" r=\"6\" fill=\"rgba(0,0,0,0.251)\"/>\n<circle cx=\"252.596\" cy=\"164.736\" r=\"6\" fill=\"rgba(0,0,0,0.251)\"/>\n<circle cx=\"243.452\" cy=\"164.736\" r=\"10\" fill=\"rgba(0,0,0,0.251)\"/>\n<circle cx=\"238.88\" cy=\"156.366\" r=\"8\" fill=\"rgba(0,0,0,0.251)\"/>\n<circle cx=\"238.88\" cy=\"139.626\" r=\"6\" fill=\"rgba(0,0,0,0.251)\"/>\n<circle cx=\"238.88\" cy=\"122.886\" r=\"10\" fill=\"rgba(0,0,0,0.251)\"/>\n<circle cx=\"238.88\" cy=\"106.146\" r=\"10\" fill=\"rgba(0,0,0,0.251)\"/>\n<circle cx=\"238.88\" cy=\"89.406\" r=\"11\" fill=\"rgba(0,0,0,0.251)\"/>\n<circle cx=\"238.88\" cy=\"72.666\" r=\"7\" fill=\"rgba(0,0,0,0.251)\"/>\n<circle cx=\"238.88\" cy=\"55.926\" r=\"9\" fill=\"rgba(0,0,0,0.251)\"/>\n<circle cx=\"238.88\" cy=\"39.186\" r=\"8\" fill=\"rgba(0,0,0,0.251)\"/>\n<circle cx=\"243.452\" cy=\"30.816\" r=\"9\" fill=\"rgba(0,0,0,0.251)\"/>\n<circle cx=\"252.596\" cy=\"30.816\" r=\"11\" fill=\"rgba(0,0,0,0.251)\"/>\n</svg>",
      "text/plain": [
       "<IPython.core.display.SVG object>"
      ]
     },
     "metadata": {},
     "output_type": "display_data"
    }
   ],
   "source": [
    "from math import sqrt\n",
    "import numpy as np\n",
    "\n",
    "page = document(300, 200, 'pt').addpage()\n",
    "pen = shape().nostroke().fill(rgba(0, 0, 0, 64))\n",
    "factor = 144 / f.density\n",
    "\n",
    "cx = 0\n",
    "cy = 0\n",
    "\n",
    "glyph_path = combine_path(f, \"먼지\").scale(factor).translate(20, 144)\n",
    "\n",
    "for cmd in glyph_path:\n",
    "    if type(cmd) in (lineto, curveto, quadto):\n",
    "        #radius = sqrt(pow(cx - cmd.x, 2) + pow(cy - cmd.y, 2)) * 0.5\n",
    "        radius = np.random.randint(6,12)\n",
    "        #radius = 5\n",
    "        page.place(pen.circle((cx + cmd.x) / 2, (cy + cmd.y) / 2, radius))\n",
    "    if type(cmd) != type(closepath):\n",
    "        cx = cmd.x\n",
    "        cy = cmd.y\n",
    "\n",
    "show(page)"
   ]
  }
 ],
 "metadata": {
  "interpreter": {
   "hash": "b0fa6594d8f4cbf19f97940f81e996739fb7646882a419484c72d19e05852a7e"
  },
  "kernelspec": {
   "display_name": "Python 3.9.10 64-bit",
   "language": "python",
   "name": "python3"
  },
  "language_info": {
   "codemirror_mode": {
    "name": "ipython",
    "version": 3
   },
   "file_extension": ".py",
   "mimetype": "text/x-python",
   "name": "python",
   "nbconvert_exporter": "python",
   "pygments_lexer": "ipython3",
   "version": "3.9.10"
  },
  "orig_nbformat": 4
 },
 "nbformat": 4,
 "nbformat_minor": 2
}

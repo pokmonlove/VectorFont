{
 "cells": [
  {
   "cell_type": "markdown",
   "id": "780aa05f",
   "metadata": {},
   "source": [
    "## 1. 라이브러리 로드"
   ]
  },
  {
   "cell_type": "code",
   "execution_count": 48,
   "id": "262578fa",
   "metadata": {},
   "outputs": [],
   "source": [
    "#라이브러리 설치\n",
    "import sys\n",
    "#!{sys.executable} -m pip install --upgrade https://github.com/aparrish/bezmerizing/archive/master.zip"
   ]
  },
  {
   "cell_type": "code",
   "execution_count": 49,
   "id": "dacf84cc",
   "metadata": {},
   "outputs": [],
   "source": [
    "import numpy as np\n",
    "import math\n",
    "from flat import document, rgb, rgba, font, strike, shape\n",
    "from flat.command import moveto, quadto, curveto, lineto, closepath\n",
    "from bezmerizing import Polyline, Path\n",
    "from copy import copy\n",
    "from numpy.random import uniform, normal, choice\n",
    "from IPython.display import SVG, display  # Scalable Vector Graphics, SVG"
   ]
  },
  {
   "cell_type": "code",
   "execution_count": 50,
   "id": "285a9fbd",
   "metadata": {},
   "outputs": [],
   "source": [
    "def show(page):\n",
    "    display(SVG(page.svg()))"
   ]
  },
  {
   "cell_type": "markdown",
   "id": "0ee8ea44",
   "metadata": {},
   "source": [
    "## 2. 폰트 로드"
   ]
  },
  {
   "cell_type": "code",
   "execution_count": 51,
   "id": "92120e2b",
   "metadata": {},
   "outputs": [
    {
     "name": "stdout",
     "output_type": "stream",
     "text": [
      "폰트명: b'TmoneyRoundWind-ExtraBold'\n",
      "Density: 1000\n"
     ]
    }
   ],
   "source": [
    "f = font.open(\"fonts/TmoneyRoundWindExtraBold.ttf\")\n",
    "print(\"폰트명:\", f.name)\n",
    "print(\"Density:\", f.density)"
   ]
  },
  {
   "cell_type": "markdown",
   "id": "3f0f7fcd",
   "metadata": {},
   "source": [
    "## 3. 자주 사용할 함수 정의"
   ]
  },
  {
   "cell_type": "code",
   "execution_count": 52,
   "id": "90ec23db",
   "metadata": {},
   "outputs": [],
   "source": [
    "def glyphcommands(f, ch):\n",
    "    return Path([copy(cmd) for cmd in f.glyph(f.charmap[ord(ch)])])"
   ]
  },
  {
   "cell_type": "code",
   "execution_count": 53,
   "id": "253594c1",
   "metadata": {},
   "outputs": [],
   "source": [
    "def advancefor(f, ch):\n",
    "    return f.advances[f.charmap[ord(ch)]]"
   ]
  },
  {
   "cell_type": "markdown",
   "id": "5b6f9901",
   "metadata": {},
   "source": [
    "## 4. 글리프 불러오기"
   ]
  },
  {
   "cell_type": "code",
   "execution_count": 54,
   "id": "f8cf543c",
   "metadata": {},
   "outputs": [
    {
     "data": {
      "image/svg+xml": [
       "<svg xmlns=\"http://www.w3.org/2000/svg\" xmlns:xlink=\"http://www.w3.org/1999/xlink\" version=\"1.1\" width=\"300pt\" height=\"200pt\" viewBox=\"0 0 300 200\">\n",
       "<title>Untitled</title>\n",
       "<path d=\"M43.2,120.528 L43.2,122.832 L96.624,122.832 L96.624,120.528 Q96.624,115.92,99.288,112.968 Q101.952,110.016,107.136,110.016 Q112.464,110.016,115.056,112.968 Q117.648,115.92,117.648,120.528 L117.648,151.344 Q117.648,158.256,114.696,161.136 Q111.744,164.016,104.688,164.016 L35.136,164.016 Q28.08,164.016,25.056,161.136 Q22.032,158.256,22.032,151.344 L22.032,120.528 Q22.032,115.92,24.696,112.968 Q27.36,110.016,32.688,110.016 Q37.872,110.016,40.536,112.968 Q43.2,115.92,43.2,120.528 z M43.2,138.384 L43.2,146.592 Q43.2,148.032,44.64,148.032 L95.184,148.032 Q96.624,148.032,96.624,146.592 L96.624,138.384 L43.2,138.384 z M123.696,104.688 L15.984,104.688 Q11.088,104.688,8.28,102.888 Q5.472,101.088,5.472,96.192 Q5.472,91.296,8.28,89.424 Q11.088,87.552,15.984,87.552 L123.696,87.552 Q128.592,87.552,131.4,89.424 Q134.208,91.296,134.208,96.192 Q134.208,101.088,131.4,102.888 Q128.592,104.688,123.696,104.688 z M61.704,33.768 Q64.944,31.536,69.84,31.536 Q74.736,31.536,77.976,33.768 Q81.216,36,81.216,40.896 L81.216,43.488 Q81.216,46.224,84.456,49.104 Q87.696,51.984,92.664,54.648 Q97.632,57.312,103.68,59.616 Q109.728,61.92,115.2,63.648 Q119.52,64.944,121.248,68.184 Q122.976,71.424,121.824,75.168 Q120.672,79.056,117.216,80.856 Q113.76,82.656,109.44,81.648 Q103.968,80.496,98.496,78.624 Q93.024,76.752,87.912,74.376 Q82.8,72,78.12,69.12 Q73.44,66.24,69.84,63.072 Q66.096,66.24,61.488,69.12 Q56.88,72,51.768,74.376 Q46.656,76.752,41.112,78.624 Q35.568,80.496,30.24,81.648 Q25.92,82.656,22.464,80.856 Q19.008,79.056,17.856,75.168 Q16.704,71.424,18.432,68.184 Q20.16,64.944,24.48,63.648 Q29.952,61.92,36,59.616 Q42.048,57.312,47.016,54.648 Q51.984,51.984,55.224,49.104 Q58.464,46.224,58.464,43.488 L58.464,40.896 Q58.464,36,61.704,33.768 z\" fill=\"rgb(240,240,240)\" stroke=\"rgb(40,40,40)\" stroke-miterlimit=\"10\"/>\n",
       "<path d=\"M267.84,148.32 L159.84,148.32 Q154.944,148.32,152.208,145.872 Q149.472,143.424,149.472,138.528 Q149.472,133.632,152.208,131.184 Q154.944,128.736,159.84,128.736 L202.32,128.736 L202.32,107.424 L180,107.424 Q172.656,107.424,169.344,104.256 Q166.032,101.088,166.032,93.744 L166.032,51.696 Q166.032,44.352,169.344,41.184 Q172.656,38.016,180,38.016 L251.28,38.016 Q256.176,38.016,258.912,40.464 Q261.648,42.912,261.648,47.808 Q261.648,52.704,258.912,55.152 Q256.176,57.6,251.28,57.6 L190.656,57.6 Q189.504,57.6,189.216,57.888 Q188.928,58.176,188.928,59.184 L188.928,86.256 Q188.928,87.264,189.216,87.552 Q189.504,87.84,190.656,87.84 L252.72,87.84 Q257.616,87.84,260.352,90.288 Q263.088,92.736,263.088,97.632 Q263.088,102.528,260.352,104.976 Q257.616,107.424,252.72,107.424 L225.36,107.424 L225.36,128.736 L267.84,128.736 Q272.736,128.736,275.472,131.184 Q278.208,133.632,278.208,138.528 Q278.208,143.424,275.472,145.872 Q272.736,148.32,267.84,148.32 z\" fill=\"rgb(240,240,240)\" stroke=\"rgb(40,40,40)\" stroke-miterlimit=\"10\"/>\n",
       "</svg>"
      ],
      "text/plain": [
       "<IPython.core.display.SVG object>"
      ]
     },
     "metadata": {},
     "output_type": "display_data"
    }
   ],
   "source": [
    "gu_path_orig = glyphcommands(f, \"습\")\n",
    "reum_path_orig = glyphcommands(f, \"도\")\n",
    "\n",
    "page = document(300, 200, 'pt').addpage()\n",
    "pen = shape().stroke(rgb(40, 40, 40)).fill(rgb(240, 240, 240))\n",
    "page.place(pen.path(gu_path_orig.scale(144/f.density).translate(0, 144)))\n",
    "page.place(pen.path(reum_path_orig.scale(144/f.density).translate(144, 144)))\n",
    "show(page)"
   ]
  },
  {
   "cell_type": "markdown",
   "id": "51ed7da4",
   "metadata": {},
   "source": [
    "## 5. 폰트 글리프 변형"
   ]
  },
  {
   "cell_type": "markdown",
   "id": "614d8fc4",
   "metadata": {},
   "source": [
    "### 5-1. 각 글리프들의 방향 알아내기"
   ]
  },
  {
   "cell_type": "code",
   "execution_count": 55,
   "id": "d40828e2",
   "metadata": {},
   "outputs": [],
   "source": [
    "def get_dir_of_glyph(cmd, pre_x, pre_y):\n",
    "    \n",
    "    direct = \"\"    \n",
    "    if type(cmd) == moveto:\n",
    "        direct += \"start\"\n",
    "        return direct\n",
    "    \n",
    "    if cmd.x > pre_x:\n",
    "        direct += \"right\"\n",
    "    elif cmd.x < pre_x:\n",
    "        direct += \"left\"\n",
    "    else:\n",
    "        direct += \"\"\n",
    "    \n",
    "    if cmd.y > pre_y:\n",
    "        direct += \"down\"\n",
    "    elif cmd.y < pre_y:\n",
    "        direct += \"up\"\n",
    "    else:\n",
    "        direct += \"\"\n",
    "        \n",
    "   \n",
    "    return direct"
   ]
  },
  {
   "cell_type": "code",
   "execution_count": 56,
   "id": "d83a3b9c",
   "metadata": {},
   "outputs": [],
   "source": [
    "def get_dir_list(path):\n",
    "    dir_list = []\n",
    "    \n",
    "    pre_x, pre_y = -9999, -9999\n",
    "    for idx, cmd in enumerate(path):\n",
    "        if type(cmd) == moveto:\n",
    "            pre_x = cmd.x\n",
    "            pre_y = cmd.y\n",
    "            direct = get_dir_of_glyph(cmd, pre_x, pre_y)\n",
    "            dir_list.append(direct)\n",
    "        elif type(cmd) in (lineto, quadto, curveto):\n",
    "            direct = get_dir_of_glyph(cmd, pre_x, pre_y)\n",
    "            dir_list.append(direct)\n",
    "            pre_x = cmd.x\n",
    "            pre_y = cmd.y\n",
    "        else:\n",
    "            dir_list.append(\"fin\")\n",
    "    \n",
    "    return dir_list"
   ]
  },
  {
   "cell_type": "markdown",
   "id": "89e20adc",
   "metadata": {},
   "source": [
    "### 5-2. 글리프 분할"
   ]
  },
  {
   "cell_type": "code",
   "execution_count": 57,
   "id": "674394ff",
   "metadata": {},
   "outputs": [],
   "source": [
    "def cut_glyph(direct, num, path):\n",
    "    # c를 리스트에 어펜드\n",
    "    # num = 나누는 수\n",
    "    result = []\n",
    "    pre_x = -9999\n",
    "    for idx, cmd in enumerate(path):\n",
    "\n",
    "        if type(cmd) == moveto:\n",
    "            pre_x, pre_y = cmd.x, cmd.y\n",
    "            c = moveto(cmd.x,cmd.y)\n",
    "            result.append(c)\n",
    "        elif type(cmd) == lineto and direct[idx] == \"left\":\n",
    "            glyph_length = math.sqrt((cmd.x - pre_x)**2 + (cmd.y - pre_y)**2)\n",
    "            cut_num = int(glyph_length / 300) * 2 + 1\n",
    "            for i in  range(1, cut_num+1):\n",
    "                temp_x = pre_x + i * (cmd.x - pre_x) / cut_num\n",
    "                c = lineto(temp_x, cmd.y)\n",
    "                result.append(c)\n",
    "            pre_x = cmd.x\n",
    "        elif type(cmd) in (lineto, quadto, curveto):\n",
    "            if type(cmd) == lineto:\n",
    "                c = lineto(cmd.x, cmd.y)\n",
    "                pre_x = cmd.x\n",
    "            elif type(cmd) == quadto:\n",
    "                c = copy(cmd)\n",
    "            elif type(cmd) == curveto:\n",
    "                c = copy(cmd)\n",
    "            result.append(c)\n",
    "        else:\n",
    "            c = closepath\n",
    "            result.append(c)\n",
    "    return result"
   ]
  },
  {
   "cell_type": "markdown",
   "id": "330ed6cc",
   "metadata": {},
   "source": [
    "### 5-3. 각 글리프를 2차 베지어 곡선으로 변경 및 디자인 적용\n",
    "* 습도 디자인 적용: mod_humidity_corrdinate_value"
   ]
  },
  {
   "cell_type": "code",
   "execution_count": 58,
   "id": "1c1265fe",
   "metadata": {},
   "outputs": [],
   "source": [
    "def mod_humidity_corrdinate_value(direct, mid_x, mid_y, av, cmd):\n",
    "    \n",
    "    c = copy(cmd)\n",
    "    \n",
    "    if direct.count('+')==1:  # 대각선\n",
    "        c = copy(cmd)\n",
    "        \n",
    "    else:  \n",
    "        if \"left\" in direct:\n",
    "            c = quadto(x1=mid_x, y1=mid_y+av, x=cmd.x, y=cmd.y)\n",
    "              \n",
    "        else:\n",
    "            c = copy(cmd)\n",
    "    \n",
    "    return c"
   ]
  },
  {
   "cell_type": "code",
   "execution_count": 59,
   "id": "cf8dd045",
   "metadata": {},
   "outputs": [],
   "source": [
    "def change_glyph_to_quad(cmd, direct, av, pre_x, pre_y):\n",
    "    \n",
    "    if type(cmd) == moveto:\n",
    "        c = moveto(cmd.x, cmd.y)\n",
    "    elif type(cmd) in (lineto, quadto, curveto):\n",
    "        mid_x = (cmd.x + pre_x) / 2\n",
    "        mid_y = (cmd.y + pre_y) / 2\n",
    "        #print(direct,\":\", pre_x, \"/\", mid_x,\"/\", cmd.x)\n",
    "        #print(direct,\":\", pre_y, mid_y, cmd.y)\n",
    "        \n",
    "        #디자인 적용\n",
    "        c = mod_humidity_corrdinate_value(direct, mid_x, mid_y, av, cmd)\n",
    "        \n",
    "    else:\n",
    "        c = closepath\n",
    "\n",
    "    return c"
   ]
  },
  {
   "cell_type": "code",
   "execution_count": 60,
   "id": "2e0495ed",
   "metadata": {},
   "outputs": [],
   "source": [
    "def make_design_glyph(input_path, glyph_dir, av):\n",
    "    pre_x = 0\n",
    "    pre_y = 0\n",
    "\n",
    "    design_glyph_list = []\n",
    "    for idx, cmd in enumerate(input_path):\n",
    "        if idx%2==1:\n",
    "            if type(cmd) == moveto:\n",
    "                pre_x = cmd.x\n",
    "                pre_y = cmd.y\n",
    "                c = change_glyph_to_quad(cmd, glyph_dir[idx], av, pre_x, pre_y)\n",
    "            elif type(cmd) in (lineto, quadto, curveto):\n",
    "                c = change_glyph_to_quad(cmd, glyph_dir[idx], av, pre_x, pre_y)\n",
    "                pre_x = cmd.x\n",
    "                pre_y = cmd.y\n",
    "            else:\n",
    "                c = closepath\n",
    "                pre_x = 0\n",
    "                pre_y = 0\n",
    "        elif idx%2==0:\n",
    "            if type(cmd) == moveto:\n",
    "                pre_x = cmd.x\n",
    "                pre_y = cmd.y\n",
    "                c = change_glyph_to_quad(cmd, glyph_dir[idx], -av, pre_x, pre_y)\n",
    "            elif type(cmd) in (lineto, quadto, curveto):\n",
    "                c = change_glyph_to_quad(cmd, glyph_dir[idx], -av, pre_x, pre_y)\n",
    "                pre_x = cmd.x\n",
    "                pre_y = cmd.y\n",
    "            else:\n",
    "                c = closepath\n",
    "                pre_x = 0\n",
    "                pre_y = 0\n",
    "\n",
    "        design_glyph_list.append(c)\n",
    "        \n",
    "    return design_glyph_list"
   ]
  },
  {
   "cell_type": "markdown",
   "id": "3c57edd5",
   "metadata": {},
   "source": [
    "## 6. 디자인 적용 후 출력"
   ]
  },
  {
   "cell_type": "code",
   "execution_count": 61,
   "id": "138bae7d",
   "metadata": {
    "scrolled": true
   },
   "outputs": [
    {
     "data": {
      "image/svg+xml": [
       "<svg xmlns=\"http://www.w3.org/2000/svg\" xmlns:xlink=\"http://www.w3.org/1999/xlink\" version=\"1.1\" width=\"300pt\" height=\"200pt\" viewBox=\"0 0 300 200\">\n",
       "<title>Untitled</title>\n",
       "<path d=\"M63.2,120.528 L63.2,122.832 L116.624,122.832 L116.624,120.528 Q116.624,115.92,119.288,112.968 Q121.952,110.016,127.136,110.016 Q132.464,110.016,135.056,112.968 Q137.648,115.92,137.648,120.528 L137.648,151.344 Q136.172,163.44,134.696,161.136 Q129.692,155.376,124.688,164.016 Q122.9168,171.216,121.1456,164.016 Q112.8944,156.816,104.6432,164.016 Q96.392,171.216,88.1408,164.016 Q79.8896,156.816,71.6384,164.016 Q63.3872,171.216,55.136,164.016 Q50.096,155.376,45.056,161.136 Q43.544,163.44,42.032,151.344 L42.032,120.528 Q42.032,115.92,44.696,112.968 Q47.36,110.016,52.688,110.016 Q57.872,110.016,60.536,112.968 Q63.2,115.92,63.2,120.528 z M63.2,138.384 L63.2,146.592 Q63.2,148.032,64.64,148.032 L115.184,148.032 Q116.624,148.032,116.624,146.592 L116.624,138.384 Q107.72,131.184,98.816,138.384 Q89.912,145.584,81.008,138.384 Q72.104,131.184,63.2,138.384 z M143.696,104.688 Q132.9248,111.888,122.1536,104.688 Q111.3824,97.488,100.6112,104.688 Q89.84,111.888,79.0688,104.688 Q68.2976,97.488,57.5264,104.688 Q46.7552,111.888,35.984,104.688 Q32.132,96.588,28.28,102.888 Q26.876,106.74,25.472,96.192 Q25.472,91.296,28.28,89.424 Q31.088,87.552,35.984,87.552 L143.696,87.552 Q148.592,87.552,151.4,89.424 Q154.208,91.296,154.208,96.192 Q152.804,106.74,151.4,102.888 Q147.548,96.588,143.696,104.688 z M81.704,33.768 Q84.944,31.536,89.84,31.536 Q94.736,31.536,97.976,33.768 Q101.216,36,101.216,40.896 L101.216,43.488 Q101.216,46.224,104.456,49.104 Q107.696,51.984,112.664,54.648 Q117.632,57.312,123.68,59.616 Q129.728,61.92,135.2,63.648 Q139.52,64.944,141.248,68.184 Q142.976,71.424,141.824,75.168 Q139.52,85.212,137.216,80.856 Q133.328,74.052,129.44,81.648 Q123.968,87.336,118.496,78.624 Q113.204,69.3,107.912,74.376 Q103.016,78.948,98.12,69.12 Q93.98,58.896,89.84,63.072 Q85.664,73.296,81.488,69.12 Q76.628,64.548,71.768,74.376 Q66.44,83.7,61.112,78.624 Q55.676,72.936,50.24,81.648 Q46.352,88.452,42.464,80.856 Q40.16,70.812,37.856,75.168 Q36.704,71.424,38.432,68.184 Q40.16,64.944,44.48,63.648 Q49.952,61.92,56,59.616 Q62.048,57.312,67.016,54.648 Q71.984,51.984,75.224,49.104 Q78.464,46.224,78.464,43.488 L78.464,40.896 Q78.464,36,81.704,33.768 z\" fill=\"rgb(0,128,0)\"/>\n",
       "</svg>"
      ],
      "text/plain": [
       "<IPython.core.display.SVG object>"
      ]
     },
     "metadata": {},
     "output_type": "display_data"
    },
    {
     "data": {
      "image/svg+xml": [
       "<svg xmlns=\"http://www.w3.org/2000/svg\" xmlns:xlink=\"http://www.w3.org/1999/xlink\" version=\"1.1\" width=\"300pt\" height=\"200pt\" viewBox=\"0 0 300 200\">\n",
       "<title>Untitled</title>\n",
       "<path d=\"M143.84,148.32 Q133.04,155.52,122.24,148.32 Q111.44,141.12,100.64,148.32 Q89.84,155.52,79.04,148.32 Q68.24,141.12,57.44,148.32 Q46.64,155.52,35.84,148.32 Q32.024,139.896,28.208,145.872 Q26.84,149.4,25.472,138.528 Q25.472,133.632,28.208,131.184 Q30.944,128.736,35.84,128.736 L78.32,128.736 L78.32,107.424 Q74.6,100.224,70.88,107.424 Q67.16,114.624,63.44,107.424 Q59.72,100.224,56,107.424 Q50.672,113.04,45.344,104.256 Q43.688,91.8,42.032,93.744 L42.032,51.696 Q42.032,44.352,45.344,41.184 Q48.656,38.016,56,38.016 L127.28,38.016 Q132.176,38.016,134.912,40.464 Q137.648,42.912,137.648,47.808 Q136.28,58.68,134.912,55.152 Q131.096,49.176,127.28,57.6 Q121.2176,64.8,115.1552,57.6 Q109.0928,50.4,103.0304,57.6 Q96.968,64.8,90.9056,57.6 Q84.8432,50.4,78.7808,57.6 Q72.7184,64.8,66.656,57.6 Q65.936,50.544,65.216,57.888 Q65.072,65.736,64.928,59.184 L64.928,86.256 Q64.928,87.264,65.216,87.552 Q65.504,87.84,66.656,87.84 L128.72,87.84 Q133.616,87.84,136.352,90.288 Q139.088,92.736,139.088,97.632 Q137.72,94.104,136.352,104.976 Q132.536,113.4,128.72,107.424 Q124.16,100.224,119.6,107.424 Q115.04,114.624,110.48,107.424 Q105.92,100.224,101.36,107.424 L101.36,128.736 L143.84,128.736 Q148.736,128.736,151.472,131.184 Q154.208,133.632,154.208,138.528 Q152.84,149.4,151.472,145.872 Q147.656,139.896,143.84,148.32 z\" fill=\"rgb(0,128,0)\"/>\n",
       "</svg>"
      ],
      "text/plain": [
       "<IPython.core.display.SVG object>"
      ]
     },
     "metadata": {},
     "output_type": "display_data"
    },
    {
     "data": {
      "image/svg+xml": [
       "<svg xmlns=\"http://www.w3.org/2000/svg\" xmlns:xlink=\"http://www.w3.org/1999/xlink\" version=\"1.1\" width=\"300pt\" height=\"200pt\" viewBox=\"0 0 300 200\">\n",
       "<title>Untitled</title>\n",
       "<path d=\"M64.928,43.056 L64.928,57.6 Q64.928,58.608,65.216,58.896 Q65.504,59.184,66.656,59.184 L128.72,59.184 Q133.328,59.184,136.208,61.488 Q139.088,63.792,139.088,68.4 Q137.648,79.056,136.208,75.312 Q132.464,69.264,128.72,77.616 Q124.088,84.816,119.456,77.616 Q114.824,70.416,110.192,77.616 Q105.56,84.816,100.928,77.616 L100.928,87.408 L143.696,87.408 Q148.592,87.408,151.4,89.28 Q154.208,91.152,154.208,96.048 Q152.804,92.196,151.4,102.744 Q147.548,110.844,143.696,104.544 Q132.9248,97.344,122.1536,104.544 Q111.3824,111.744,100.6112,104.544 Q89.84,97.344,79.0688,104.544 Q68.2976,111.744,57.5264,104.544 Q46.7552,97.344,35.984,104.544 Q32.132,110.844,28.28,102.744 Q26.876,92.196,25.472,96.048 Q25.472,91.152,28.28,89.28 Q31.088,87.408,35.984,87.408 L78.752,87.408 L78.752,77.616 Q67.736,84.816,56.72,77.616 Q51.392,68.832,46.064,74.448 Q44.408,76.392,42.752,63.936 L42.752,43.056 Q42.752,38.016,45.704,35.28 Q48.656,32.544,53.84,32.544 Q59.024,32.544,61.976,35.28 Q64.928,38.016,64.928,43.056 z M79.184,138.384 L79.184,141.84 Q79.184,143.136,79.184,144.432 Q79.184,145.728,79.328,147.312 L100.208,147.312 Q100.496,145.728,100.496,144.432 Q100.496,143.136,100.496,141.84 L100.496,138.384 Q100.496,133.776,103.664,132.264 Q106.832,130.752,111.44,130.752 Q116.048,130.752,119.288,132.264 Q122.528,133.776,122.528,138.384 L122.528,140.832 Q122.492,149.4,122.456,143.568 Q122.276,138.24,122.096,147.312 L130.88,147.312 Q135.488,147.312,138.008,149.4 Q140.528,151.488,140.528,155.664 Q139.268,151.596,138.008,161.928 Q134.444,170.172,130.88,164.016 Q117.224,156.816,103.568,164.016 Q89.912,171.216,76.256,164.016 Q62.6,156.816,48.944,164.016 Q45.344,170.172,41.744,161.928 Q40.448,151.596,39.152,155.664 Q39.152,151.488,41.744,149.4 Q44.336,147.312,48.944,147.312 L57.44,147.312 Q57.296,138.24,57.152,143.568 Q57.152,141.84,57.152,140.832 L57.152,138.384 Q57.152,133.776,60.392,132.264 Q63.632,130.752,68.24,130.752 Q72.848,130.752,76.016,132.264 Q79.184,133.776,79.184,138.384 z M128,127.728 Q115.304,134.928,102.608,127.728 Q89.912,120.528,77.216,127.728 Q64.52,134.928,51.824,127.728 Q48.224,119.484,44.624,125.64 Q43.328,129.708,42.032,119.376 Q42.032,115.2,44.624,113.112 Q47.216,111.024,51.824,111.024 L128,111.024 Q132.608,111.024,135.128,113.112 Q137.648,115.2,137.648,119.376 Q136.388,129.708,135.128,125.64 Q131.564,119.484,128,127.728 z\" fill=\"rgb(0,128,0)\"/>\n",
       "</svg>"
      ],
      "text/plain": [
       "<IPython.core.display.SVG object>"
      ]
     },
     "metadata": {},
     "output_type": "display_data"
    },
    {
     "data": {
      "image/svg+xml": [
       "<svg xmlns=\"http://www.w3.org/2000/svg\" xmlns:xlink=\"http://www.w3.org/1999/xlink\" version=\"1.1\" width=\"300pt\" height=\"200pt\" viewBox=\"0 0 300 200\">\n",
       "<title>Untitled</title>\n",
       "<path d=\"M116.48,145.296 L116.48,134.784 Q115.688,126.792,114.896,133.2 Q107.072,140.4,99.248,133.2 Q90.632,126,82.016,133.2 Q73.4,140.4,64.784,133.2 Q63.992,126.792,63.2,134.784 L63.2,145.296 Q63.2,146.88,64.784,146.88 L114.896,146.88 Q116.48,146.88,116.48,145.296 z M125.264,164.016 Q113.456,171.216,101.648,164.016 Q89.84,156.816,78.032,164.016 Q66.224,171.216,54.416,164.016 Q49.7,155.34,44.984,161.064 Q43.508,163.548,42.032,151.632 L42.032,128.448 Q42.032,121.968,44.984,119.016 Q47.936,116.064,54.416,116.064 L125.264,116.064 Q131.744,116.064,134.696,119.016 Q137.648,121.968,137.648,128.448 L137.648,151.632 Q136.172,163.548,134.696,161.064 Q129.98,155.34,125.264,164.016 z M143.696,106.848 Q132.9248,114.048,122.1536,106.848 Q111.3824,99.648,100.6112,106.848 Q89.84,114.048,79.0688,106.848 Q68.2976,99.648,57.5264,106.848 Q46.7552,114.048,35.984,106.848 Q32.132,98.748,28.28,105.048 Q26.876,108.9,25.472,98.352 Q25.472,93.456,28.28,91.584 Q31.088,89.712,35.984,89.712 L143.696,89.712 Q148.592,89.712,151.4,91.584 Q154.208,93.456,154.208,98.352 Q152.804,108.9,151.4,105.048 Q147.548,98.748,143.696,106.848 z M99.92,48.888 Q94.88,55.908,89.84,48.528 Q84.764,41.508,79.688,48.888 Q75.62,56.736,71.552,50.184 Q68.816,44.244,66.08,52.704 Q65.072,61.92,64.064,56.736 Q64.064,59.184,66.08,60.768 Q68.096,62.352,71.552,63.288 Q75.008,64.224,79.688,64.584 Q84.368,64.944,89.84,64.944 Q95.168,64.944,99.92,64.584 Q104.672,64.224,108.128,63.288 Q111.584,62.352,113.6,60.768 Q115.616,59.184,115.616,56.736 Q114.608,47.52,113.6,52.704 Q110.864,58.644,108.128,50.184 Q104.024,42.336,99.92,48.888 z M73.28,32.472 Q81.776,31.536,89.84,31.536 Q97.76,31.536,106.328,32.472 Q114.896,33.408,121.952,36.072 Q129.008,38.736,133.544,43.704 Q138.08,48.672,138.08,56.736 Q135.812,56.052,133.544,69.768 Q127.748,80.82,121.952,77.472 Q114.14,72.072,106.328,81.072 Q98.084,88.704,89.84,81.936 Q81.56,74.304,73.28,81.072 Q65.504,86.472,57.728,77.472 Q51.932,66.42,46.136,69.768 Q43.868,70.452,41.6,56.736 Q41.6,48.672,46.136,43.704 Q50.672,38.736,57.728,36.072 Q64.784,33.408,73.28,32.472 z\" fill=\"rgb(0,128,0)\"/>\n",
       "</svg>"
      ],
      "text/plain": [
       "<IPython.core.display.SVG object>"
      ]
     },
     "metadata": {},
     "output_type": "display_data"
    }
   ],
   "source": [
    "input_letters = [\"습\", \"도\", \"높\", \"음\"]\n",
    "av =50\n",
    "\n",
    "for letter in input_letters:\n",
    "    \n",
    "    path_list = glyphcommands(f, letter)  \n",
    "    #print(\"<<\", letter, \">>\")\n",
    "    glyph_dir = get_dir_list(path_list) \n",
    "\n",
    "    mod_path = cut_glyph(glyph_dir, 6, path_list)\n",
    "    \n",
    "    glyph_path_direct = get_dir_list(mod_path)\n",
    "    \n",
    "    mod_glyph = make_design_glyph(mod_path, glyph_path_direct, av)\n",
    "    mod_path2 = Path(mod_glyph)\n",
    "    \n",
    "    page = document(300, 200, 'pt').addpage()\n",
    "    pen = shape().nostroke().fill(rgb(0, 128, 0))\n",
    "    page.place(pen.path(mod_path2.scale(144/f.density).translate(20, 144)))\n",
    "    show(page)"
   ]
  }
 ],
 "metadata": {
  "kernelspec": {
   "display_name": "Python 3 (ipykernel)",
   "language": "python",
   "name": "python3"
  },
  "language_info": {
   "codemirror_mode": {
    "name": "ipython",
    "version": 3
   },
   "file_extension": ".py",
   "mimetype": "text/x-python",
   "name": "python",
   "nbconvert_exporter": "python",
   "pygments_lexer": "ipython3",
   "version": "3.9.7"
  }
 },
 "nbformat": 4,
 "nbformat_minor": 5
}

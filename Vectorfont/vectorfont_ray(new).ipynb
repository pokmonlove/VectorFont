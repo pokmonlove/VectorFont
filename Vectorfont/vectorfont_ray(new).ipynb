{
 "cells": [
  {
   "cell_type": "markdown",
   "id": "5f19863c",
   "metadata": {},
   "source": [
    "## 1. 라이브러리 로드"
   ]
  },
  {
   "cell_type": "code",
   "execution_count": 124,
   "id": "0fd95d96",
   "metadata": {},
   "outputs": [],
   "source": [
    "#라이브러리 설치\n",
    "import sys\n",
    "#!{sys.executable} -m pip install --upgrade https://github.com/aparrish/bezmerizing/archive/master.zip"
   ]
  },
  {
   "cell_type": "code",
   "execution_count": 125,
   "id": "aefcaf44",
   "metadata": {},
   "outputs": [],
   "source": [
    "import math\n",
    "import random\n",
    "import numpy as np\n",
    "from flat import document, rgb, rgba, font, strike, shape\n",
    "from flat.command import moveto, quadto, curveto, lineto, closepath\n",
    "from bezmerizing import Polyline, Path\n",
    "from numpy.random import uniform, normal, choice\n",
    "from numpy.random import uniform, normal, choice\n",
    "from copy import copy\n",
    "from random import randrange\n",
    "from IPython.display import SVG, display  # Scalable Vector Graphics, SVG\n",
    "def show(page):\n",
    "    display(SVG(page.svg()))"
   ]
  },
  {
   "cell_type": "markdown",
   "id": "61ac03b7",
   "metadata": {},
   "source": [
    "## 2. 폰트 로드"
   ]
  },
  {
   "cell_type": "code",
   "execution_count": 126,
   "id": "476b9830",
   "metadata": {},
   "outputs": [
    {
     "name": "stdout",
     "output_type": "stream",
     "text": [
      "폰트명: b'NanumSquare_acEB'\n",
      "Density: 1000\n"
     ]
    }
   ],
   "source": [
    "f = font.open(\"fonts/NanumSquare_0.ttf\")\n",
    "print(\"폰트명:\", f.name)\n",
    "print(\"Density:\", f.density)"
   ]
  },
  {
   "cell_type": "markdown",
   "id": "2a300b56",
   "metadata": {},
   "source": [
    "## 3. 자주 사용할 함수 정의"
   ]
  },
  {
   "cell_type": "code",
   "execution_count": 127,
   "id": "09efe1d1",
   "metadata": {},
   "outputs": [],
   "source": [
    "def glyphcommands(f, ch):\n",
    "    return Path([copy(cmd) for cmd in f.glyph(f.charmap[ord(ch)])])\n",
    "\n",
    "def advancefor(f, ch):\n",
    "    return f.advances[f.charmap[ord(ch)]]"
   ]
  },
  {
   "cell_type": "markdown",
   "id": "ade33418",
   "metadata": {},
   "source": [
    "## 4. 폰트 글리프 변형"
   ]
  },
  {
   "cell_type": "markdown",
   "id": "18b5f795",
   "metadata": {},
   "source": [
    "### 4-1. 각 글리프들의 방향 알아내기"
   ]
  },
  {
   "cell_type": "code",
   "execution_count": 128,
   "id": "d61168b7",
   "metadata": {},
   "outputs": [],
   "source": [
    "def get_dir_of_glyph(cmd, pre_x, pre_y):\n",
    "\n",
    "    direct = \"\"    \n",
    "    if type(cmd) == moveto:\n",
    "        direct += \"start\"\n",
    "        return direct\n",
    "    \n",
    "    if cmd.x > pre_x:\n",
    "        direct += \"+right\"\n",
    "    elif cmd.x < pre_x:\n",
    "        direct += \"+left\"\n",
    "    else:\n",
    "        direct += \"\"\n",
    "    \n",
    "    if cmd.y > pre_y:\n",
    "        direct += \"+down\"\n",
    "    elif cmd.y < pre_y:\n",
    "        direct += \"+up\"\n",
    "    else:\n",
    "        direct += \"\"\n",
    "        \n",
    "   \n",
    "    return direct"
   ]
  },
  {
   "cell_type": "code",
   "execution_count": 129,
   "id": "506ec3b7",
   "metadata": {},
   "outputs": [],
   "source": [
    "def get_dir_list(path):\n",
    "    dir_list = []\n",
    "    \n",
    "    pre_x, pre_y = -9999, -9999\n",
    "    for idx, cmd in enumerate(path):\n",
    "        if type(cmd) == moveto:\n",
    "            pre_x = cmd.x\n",
    "            pre_y = cmd.y\n",
    "            direct = get_dir_of_glyph(cmd, pre_x, pre_y)\n",
    "            dir_list.append(direct)\n",
    "        elif type(cmd) in (lineto, quadto, curveto):\n",
    "            direct = get_dir_of_glyph(cmd, pre_x, pre_y)\n",
    "            dir_list.append(direct)\n",
    "            pre_x = cmd.x\n",
    "            pre_y = cmd.y\n",
    "        else:\n",
    "            dir_list.append(\"fin\")\n",
    "    \n",
    "    return dir_list"
   ]
  },
  {
   "cell_type": "markdown",
   "id": "708b6f09",
   "metadata": {},
   "source": [
    "### 4-2. 각 글리프를 2차 베지어 곡선으로 변경 및 디자인 적용\n",
    "* 자외선 디자인 적용: mod_sunny_corrdinate_value()"
   ]
  },
  {
   "cell_type": "code",
   "execution_count": 130,
   "id": "8e24d75d",
   "metadata": {},
   "outputs": [],
   "source": [
    "# 아웃라인을 따라 뾰족뾰족해지는 자외선 디자인\n",
    "def mod_sunny_corrdinate_value(direct, mid_x, mid_y, av, cmd):\n",
    "    \n",
    "    c = copy(cmd)\n",
    "    if direct.count('+')==2:  # 대각선\n",
    "        if \"right+up\" in direct:\n",
    "            c = quadto(x1=mid_x+av, y1=mid_y+av, x=cmd.x, y=cmd.y)\n",
    "        elif \"right+down\" in direct:\n",
    "            c = quadto(x1=mid_x-av, y1=mid_y+av, x=cmd.x, y=cmd.y)\n",
    "        elif \"left+up\" in direct:\n",
    "            c = quadto(x1=mid_x+av, y1=mid_y-av, x=cmd.x, y=cmd.y)\n",
    "        elif \"left+down\" in direct:\n",
    "            c = quadto(x1=mid_x-av, y1=mid_y-av, x=cmd.x, y=cmd.y)\n",
    "        \n",
    "    else:  # 상하좌우\n",
    "        if \"right\" in direct:\n",
    "            c = quadto(x1=mid_x, y1=mid_y+av, x=cmd.x, y=cmd.y)\n",
    "        elif \"left\" in direct:\n",
    "            c = quadto(x1=mid_x, y1=mid_y-av, x=cmd.x, y=cmd.y)\n",
    "        elif \"up\" in direct:\n",
    "            c = quadto(x1=mid_x+av, y1=mid_y, x=cmd.x, y=cmd.y)\n",
    "        elif \"down\" in direct:\n",
    "            c = quadto(x1=mid_x-av, y1=mid_y, x=cmd.x, y=cmd.y)\n",
    "    \n",
    "    return c"
   ]
  },
  {
   "cell_type": "code",
   "execution_count": 131,
   "id": "c6bf6de2",
   "metadata": {},
   "outputs": [],
   "source": [
    "# cmd: glyph\n",
    "# direct: direction of glyph\n",
    "# av: Adjustment value - how much we will change the glyph\n",
    "def change_glyph_to_quad(cmd, direct, av, pre_x, pre_y):\n",
    "    \n",
    "    if type(cmd) == moveto:\n",
    "        c = moveto(cmd.x, cmd.y)\n",
    "    elif type(cmd) in (lineto, quadto, curveto):\n",
    "        mid_x = (cmd.x + pre_x) / 2\n",
    "        mid_y = (cmd.y + pre_y) / 2\n",
    "        #print(direct,\":\", pre_x, mid_x, cmd.x)\n",
    "        #print(direct,\":\", pre_y, mid_y, cmd.y)\n",
    "        \n",
    "        #디자인 적용\n",
    "        c = mod_sunny_corrdinate_value(direct, mid_x, mid_y, av, cmd)  # 자외선 디자인\n",
    "    else:\n",
    "        c = closepath\n",
    "\n",
    "    return c"
   ]
  },
  {
   "cell_type": "code",
   "execution_count": 132,
   "id": "3dce491e",
   "metadata": {},
   "outputs": [],
   "source": [
    "def make_design_glyph(input_path, glyph_dir, av):\n",
    "    pre_x = 0\n",
    "    pre_y = 0\n",
    "\n",
    "    design_glyph_list = []\n",
    "    for idx, cmd in enumerate(input_path):\n",
    "        if type(cmd) == moveto:\n",
    "            pre_x = cmd.x\n",
    "            pre_y = cmd.y\n",
    "            c = change_glyph_to_quad(cmd, glyph_dir[idx], av, pre_x, pre_y)\n",
    "        elif type(cmd) in (lineto, quadto, curveto):\n",
    "            c = change_glyph_to_quad(cmd, glyph_dir[idx], av, pre_x, pre_y)\n",
    "            pre_x = cmd.x\n",
    "            pre_y = cmd.y\n",
    "        else:\n",
    "            c = closepath\n",
    "            pre_x = 0\n",
    "            pre_y = 0\n",
    "\n",
    "        design_glyph_list.append(c)\n",
    "        \n",
    "    return design_glyph_list"
   ]
  },
  {
   "cell_type": "markdown",
   "id": "e234740a",
   "metadata": {},
   "source": [
    "### 4-3. 글리프 분할\n",
    "#### 구름과 달리 규칙적으로 분할"
   ]
  },
  {
   "cell_type": "code",
   "execution_count": 133,
   "id": "3b35c052",
   "metadata": {},
   "outputs": [],
   "source": [
    "def cut_glyph(cut_dir, cut_num, origin_glyph, origin_glyph_dir):\n",
    "    \n",
    "    cutted_glyph = []\n",
    "    pre_x, pre_y = -9999, -9999\n",
    "    \n",
    "    for idx, cmd in enumerate(origin_glyph):\n",
    "        if type(cmd) == moveto:  # moveto (시작일경우)\n",
    "            pre_x, pre_y = cmd.x, cmd.y\n",
    "            c = moveto(cmd.x, cmd.y)\n",
    "            cutted_glyph.append(c)\n",
    "            \n",
    "        elif type(cmd) == lineto and origin_glyph_dir[idx] in cut_dir:  # cut (자르고자 하는 방향의 글리프인 경우)\n",
    "            #길이 계산\n",
    "            glyph_length = math.sqrt((cmd.x - pre_x)**2 + (cmd.y - pre_y)**2)\n",
    "            #print(origin_glyph_dir[idx], \":\", glyph_length)\n",
    "            cut_num2 = int(glyph_length / 300) * 2 + 1\n",
    "            #print(int(glyph_length / 300))\n",
    "            \n",
    "            #글리프를 분할하기엔 너무 짧을때는 분할 X\n",
    "            if cut_num2==1:\n",
    "                if origin_glyph_dir[idx] == \"+right\":\n",
    "                    for i in  range(1, cut_num2 + 1):\n",
    "                        temp_x = pre_x + i * (cmd.x - pre_x) / cut_num2\n",
    "                        c = lineto(temp_x, cmd.y)\n",
    "                        cutted_glyph.append(c)\n",
    "                elif origin_glyph_dir[idx] == \"+down\":\n",
    "                    for i in  range(1, cut_num2 + 1):\n",
    "                        temp_y = pre_y + i * (cmd.y - pre_y) / cut_num2\n",
    "                        c = lineto(cmd.x, temp_y)\n",
    "                        cutted_glyph.append(c)\n",
    "                elif origin_glyph_dir[idx] == \"+left\":\n",
    "                    for i in  range(1, cut_num2 + 1):\n",
    "                        temp_x = pre_x - i * (pre_x - cmd.x) / cut_num2\n",
    "                        c = lineto(temp_x, cmd.y)\n",
    "                        cutted_glyph.append(c)\n",
    "                elif origin_glyph_dir[idx] == \"+up\":\n",
    "                    for i in  range(1, cut_num2 + 1):\n",
    "                        temp_y = pre_y - i * (pre_y - cmd.y) / cut_num2\n",
    "                        c = lineto(cmd.x, temp_y)\n",
    "                        cutted_glyph.append(c)\n",
    "\n",
    "                pre_x, pre_y = cmd.x, cmd.y\n",
    "                \n",
    "            #분할하기에 적당한 길이의 글리프일 때는 분할 진행    \n",
    "            else:\n",
    "                if origin_glyph_dir[idx] == \"+right\":\n",
    "                    for i in  range(1, cut_num + 1):\n",
    "                        temp_x = pre_x + i * (cmd.x - pre_x) / cut_num\n",
    "                        c = lineto(temp_x, cmd.y)\n",
    "                        cutted_glyph.append(c)\n",
    "                elif origin_glyph_dir[idx] == \"+down\":\n",
    "                    for i in  range(1, cut_num + 1):\n",
    "                        temp_y = pre_y + i * (cmd.y - pre_y) / cut_num\n",
    "                        c = lineto(cmd.x, temp_y)\n",
    "                        cutted_glyph.append(c)\n",
    "                elif origin_glyph_dir[idx] == \"+left\":\n",
    "                    for i in  range(1, cut_num + 1):\n",
    "                        temp_x = pre_x - i * (pre_x - cmd.x) / cut_num\n",
    "                        c = lineto(temp_x, cmd.y)\n",
    "                        cutted_glyph.append(c)\n",
    "                elif origin_glyph_dir[idx] == \"+up\":\n",
    "                    for i in  range(1, cut_num + 1):\n",
    "                        temp_y = pre_y - i * (pre_y - cmd.y) / cut_num\n",
    "                        c = lineto(cmd.x, temp_y)\n",
    "                        cutted_glyph.append(c)\n",
    "\n",
    "                pre_x, pre_y = cmd.x, cmd.y\n",
    "                \n",
    "        elif  type(cmd) in (lineto, quadto, curveto):  # etc (그 외의 건드리지 않을 글리프인 경우)\n",
    "            if type(cmd) == lineto:\n",
    "                c = lineto(cmd.x, cmd.y)\n",
    "            elif type(cmd) == quadto:\n",
    "                c = quadto(x1=cmd.x1, y1=cmd.y1, x=cmd.x, y=cmd.y) \n",
    "            elif type(cmd) == curveto:\n",
    "                c = curveto(x1=cmd.x1, y1=cmd.y1, x2=cmd.x2, y2=cmd.y2, x=cmd.x, y=cmd.y)\n",
    "            pre_x = cmd.x\n",
    "            pre_y = cmd.y\n",
    "            cutted_glyph.append(c)\n",
    "            \n",
    "        else:  # closepath (글리프를 끝낼 경우)\n",
    "            c = closepath\n",
    "            cutted_glyph.append(c)\n",
    "    \n",
    "    return cutted_glyph"
   ]
  },
  {
   "cell_type": "markdown",
   "id": "b760f9fd",
   "metadata": {},
   "source": [
    "## 5. 디자인 적용 후 출력"
   ]
  },
  {
   "cell_type": "code",
   "execution_count": 134,
   "id": "ec6e9f90",
   "metadata": {},
   "outputs": [
    {
     "data": {
      "image/svg+xml": [
       "<svg xmlns=\"http://www.w3.org/2000/svg\" xmlns:xlink=\"http://www.w3.org/1999/xlink\" version=\"1.1\" width=\"300pt\" height=\"200pt\" viewBox=\"0 0 300 200\">\n",
       "<title>Untitled</title>\n",
       "<path d=\"M24.608,58.032 Q31.808,50.256,24.608,42.48 Q36.464,49.68,48.32,42.48 Q60.176,49.68,72.032,42.48 Q83.888,49.68,95.744,42.48 Q88.544,50.256,95.744,58.032 Q82.856,50.832,69.968,58.032 Q62.768,65.448,69.968,72.864 Q62.984,83.844,70.4,80.424 Q63.956,90.828,71.912,86.832 Q66.26,97.056,75.008,92.88 Q70.472,103.32,80.336,99.36 Q78.14,111.744,90.344,109.728 Q88.58,122.04,101.216,119.952 Q88.184,118.8,89.552,132.048 Q92.144,120.42,80.336,123.192 Q83.216,111.636,71.696,114.48 Q75.368,103.5,64.64,106.92 Q70.04,97.164,61.04,101.808 Q60.896,94.608,60.752,101.808 Q51.464,97.488,56.576,107.568 Q45.992,104.112,49.808,115.056 Q38.432,112.14,41.456,123.624 Q29.072,121.356,31.088,133.488 Q32.312,120.168,19.136,121.248 Q36.992,118.008,40.448,100.368 Q50.312,104.256,45.776,93.744 Q54.704,97.848,49.232,87.552 Q57.332,91.404,51.032,80.856 Q58.484,84.06,51.536,72.864 Q58.736,65.448,51.536,58.032 Q38.072,50.832,24.608,58.032 z M126.848,30.816 Q119.648,38.832,126.848,46.848 Q119.648,54.864,126.848,62.88 Q119.648,70.896,126.848,78.912 Q136.064,86.112,145.28,78.912 Q138.08,86.832,145.28,94.752 Q136.064,87.552,126.848,94.752 Q119.648,106.416,126.848,118.08 Q119.648,129.744,126.848,141.408 Q119.648,153.072,126.848,164.736 Q117.704,157.536,108.56,164.736 Q115.76,142.416,108.56,120.096 Q115.76,97.776,108.56,75.456 Q115.76,53.136,108.56,30.816 Q117.704,38.016,126.848,30.816 z\" fill=\"rgb(240,240,240)\" stroke=\"rgb(40,40,40)\" stroke-miterlimit=\"10\"/>\n",
       "</svg>"
      ],
      "text/plain": [
       "<IPython.core.display.SVG object>"
      ]
     },
     "metadata": {},
     "output_type": "display_data"
    },
    {
     "data": {
      "image/svg+xml": [
       "<svg xmlns=\"http://www.w3.org/2000/svg\" xmlns:xlink=\"http://www.w3.org/1999/xlink\" version=\"1.1\" width=\"300pt\" height=\"200pt\" viewBox=\"0 0 300 200\">\n",
       "<title>Untitled</title>\n",
       "<path d=\"M23.312,138.24 Q30.512,130.392,23.312,122.544 Q31.916,129.744,40.52,122.544 Q55.316,129.672,55.712,122.4 Q62.912,112.608,55.712,102.816 Q57.224,93.636,44.336,98.856 Q47.252,88.308,35.768,92.16 Q40.232,80.676,30.296,83.592 Q36.524,71.46,28.352,73.728 Q35.552,70.848,28.352,67.968 Q36.884,69.444,31.016,56.52 Q41.924,58.968,38.432,47.016 Q51.356,50.94,49.88,40.464 Q64.46,46.44,64.64,38.016 Q64.82,46.44,79.4,40.464 Q77.924,50.94,90.848,47.016 Q87.356,58.968,98.264,56.52 Q92.396,69.444,100.928,67.968 Q93.728,70.848,100.928,73.728 Q92.756,71.46,98.984,83.592 Q89.048,80.676,93.512,92.16 Q82.028,88.272,84.944,98.784 Q72.128,93.6,73.712,102.816 Q66.512,112.464,73.712,122.112 Q90.776,128.916,93.44,121.32 Q108.344,127.908,108.848,120.096 Q102.296,135.072,110.144,135.648 Q95.78,129.06,95.816,136.872 Q79.256,130.068,77.096,137.664 Q57.944,130.68,53.192,138.096 Q31.052,130.968,23.312,138.24 z M133.76,30.816 Q126.56,53.136,133.76,75.456 Q126.56,97.776,133.76,120.096 Q126.56,142.416,133.76,164.736 Q124.76,157.536,115.76,164.736 Q122.96,142.416,115.76,120.096 Q122.96,97.776,115.76,75.456 Q122.96,53.136,115.76,30.816 Q124.76,38.016,133.76,30.816 z M72.488,54.864 Q75.764,47.016,64.64,53.568 Q53.516,47.016,56.792,54.864 Q46.568,49.392,50.744,58.32 Q41.636,53.604,46.928,63.288 Q39.08,58.932,45.632,68.976 Q38.432,70.848,45.632,72.72 Q39.08,82.764,46.928,78.408 Q41.636,88.092,50.744,83.376 Q46.568,92.304,56.792,86.832 Q53.516,94.68,64.64,88.128 Q75.764,94.68,72.488,86.832 Q82.712,92.304,78.536,83.376 Q87.644,88.092,82.352,78.408 Q90.2,82.764,83.648,72.72 Q90.848,70.848,83.648,68.976 Q90.2,58.932,82.352,63.288 Q87.644,53.604,78.536,58.32 Q82.712,49.392,72.488,54.864 z\" fill=\"rgb(240,240,240)\" stroke=\"rgb(40,40,40)\" stroke-miterlimit=\"10\"/>\n",
       "</svg>"
      ],
      "text/plain": [
       "<IPython.core.display.SVG object>"
      ]
     },
     "metadata": {},
     "output_type": "display_data"
    },
    {
     "data": {
      "image/svg+xml": [
       "<svg xmlns=\"http://www.w3.org/2000/svg\" xmlns:xlink=\"http://www.w3.org/1999/xlink\" version=\"1.1\" width=\"300pt\" height=\"200pt\" viewBox=\"0 0 300 200\">\n",
       "<title>Untitled</title>\n",
       "<path d=\"M61.328,84.384 Q61.256,77.184,61.184,84.384 Q52.508,79.452,58.232,88.92 Q48.116,84.564,52.4,94.608 Q40.304,91.8,42.608,103.392 Q29.576,101.016,30.944,113.04 Q32.528,99.216,19.712,99.792 Q32.564,102.348,31.016,90.504 Q43.58,92.844,41.744,80.784 Q52.652,82.944,49.16,70.704 Q57.476,71.712,51.392,58.32 Q58.592,47.52,51.392,36.72 Q60.608,43.92,69.824,36.72 Q62.624,47.16,69.824,57.6 Q62.84,68.256,70.256,64.512 Q63.776,74.448,71.696,69.984 Q65.9,79.524,74.504,74.664 Q69.644,84.204,79.184,79.344 Q77.24,90.792,89.696,87.84 Q87.752,98.928,100.208,95.616 Q87.752,94.752,89.696,108.288 Q92.432,97.776,80.768,101.664 Q83.072,90.576,70.976,93.888 Q75.008,84.024,64.64,88.56 Q70.184,79.272,61.328,84.384 z M113.6,125.856 Q120.8,117.312,113.6,108.768 Q120.8,100.224,113.6,91.68 Q120.8,83.136,113.6,74.592 Q101.792,67.392,89.984,74.592 Q97.184,66.816,89.984,59.04 Q101.792,66.24,113.6,59.04 Q120.8,44.928,113.6,30.816 Q122.672,38.016,131.744,30.816 Q124.544,46.656,131.744,62.496 Q124.544,78.336,131.744,94.176 Q124.544,110.016,131.744,125.856 Q122.672,118.656,113.6,125.856 z M64.784,117.792 Q57.584,132.768,64.784,147.744 Q76.304,154.944,87.824,147.744 Q99.344,154.944,110.864,147.744 Q122.384,154.944,133.904,147.744 Q126.704,155.52,133.904,163.296 Q119.336,156.096,104.768,163.296 Q90.2,156.096,75.632,163.296 Q61.064,156.096,46.496,163.296 Q53.696,155.712,46.496,148.128 Q53.696,140.544,46.496,132.96 Q53.696,125.376,46.496,117.792 Q55.64,124.992,64.784,117.792 z\" fill=\"rgb(240,240,240)\" stroke=\"rgb(40,40,40)\" stroke-miterlimit=\"10\"/>\n",
       "</svg>"
      ],
      "text/plain": [
       "<IPython.core.display.SVG object>"
      ]
     },
     "metadata": {},
     "output_type": "display_data"
    },
    {
     "data": {
      "image/svg+xml": [
       "<svg xmlns=\"http://www.w3.org/2000/svg\" xmlns:xlink=\"http://www.w3.org/1999/xlink\" version=\"1.1\" width=\"300pt\" height=\"200pt\" viewBox=\"0 0 300 200\">\n",
       "<title>Untitled</title>\n",
       "<path d=\"M126.848,30.816 Q119.648,45.792,126.848,60.768 Q135.632,67.968,144.416,60.768 Q137.216,68.688,144.416,76.608 Q135.632,69.408,126.848,76.608 Q119.648,93.312,126.848,110.016 Q117.776,102.816,108.704,110.016 Q115.904,96.816,108.704,83.616 Q115.904,70.416,108.704,57.216 Q115.904,44.016,108.704,30.816 Q117.776,38.016,126.848,30.816 z M29.072,112.896 Q32.6,98.28,21.728,98.064 Q41.132,99.756,46.136,87.048 Q60.356,89.964,60.176,78.48 Q70.58,81.576,66.584,70.272 Q74.54,72.504,68.096,60.336 Q75.296,57.24,68.096,54.144 Q47.792,46.944,27.488,54.144 Q34.688,46.44,27.488,38.736 Q37.28,45.936,47.072,38.736 Q56.864,45.936,66.656,38.736 Q76.448,45.936,86.24,38.736 Q79.04,50.4,86.24,62.064 Q78.5,60.048,85.16,72.432 Q76.16,69.552,81.56,81.072 Q71.012,77.724,74.864,88.776 Q62.408,85.284,64.352,96.192 Q49.628,92.88,49.304,103.968 Q31.988,101.232,29.072,112.896 z M103.016,166.896 Q87.428,160.632,86.24,168.768 Q85.052,160.632,69.464,166.896 Q70.184,157.032,56.504,161.568 Q59.528,150.228,48.152,153.288 Q53.876,140.796,45.2,142.704 Q52.4,139.68,45.2,136.656 Q53.876,138.564,48.152,126.072 Q59.528,129.132,56.504,117.792 Q70.184,122.328,69.464,112.464 Q85.052,118.728,86.24,110.592 Q87.428,118.728,103.016,112.464 Q102.296,122.328,115.976,117.792 Q112.952,129.132,124.328,126.072 Q118.604,138.564,127.28,136.656 Q120.08,139.68,127.28,142.704 Q118.604,140.796,124.328,153.288 Q112.952,150.228,115.976,161.568 Q102.296,157.032,103.016,166.896 z M96.032,126.576 Q98.336,118.8,86.24,125.424 Q74.144,118.8,76.448,126.576 Q65.612,120.852,69.176,129.528 Q59.708,124.308,64.64,133.488 Q56.648,128.448,63.056,137.808 Q55.856,139.68,63.056,141.552 Q56.648,150.912,64.64,145.872 Q59.708,155.052,69.176,149.832 Q65.612,158.508,76.448,152.784 Q74.144,160.56,86.24,153.936 Q98.336,160.56,96.032,152.784 Q106.868,158.508,103.304,149.832 Q112.772,155.052,107.84,145.872 Q115.832,150.912,109.424,141.552 Q116.624,139.68,109.424,137.808 Q115.832,128.448,107.84,133.488 Q112.772,124.308,103.304,129.528 Q106.868,120.852,96.032,126.576 z\" fill=\"rgb(240,240,240)\" stroke=\"rgb(40,40,40)\" stroke-miterlimit=\"10\"/>\n",
       "</svg>"
      ],
      "text/plain": [
       "<IPython.core.display.SVG object>"
      ]
     },
     "metadata": {},
     "output_type": "display_data"
    },
    {
     "data": {
      "image/svg+xml": [
       "<svg xmlns=\"http://www.w3.org/2000/svg\" xmlns:xlink=\"http://www.w3.org/1999/xlink\" version=\"1.1\" width=\"300pt\" height=\"200pt\" viewBox=\"0 0 300 200\">\n",
       "<title>Untitled</title>\n",
       "<path d=\"M43.76,164.88 Q50.96,156.984,43.76,149.088 Q50.96,141.192,43.76,133.296 Q50.96,125.4,43.76,117.504 Q57.608,124.704,71.456,117.504 Q85.304,124.704,99.152,117.504 Q113,124.704,126.848,117.504 Q119.648,125.4,126.848,133.296 Q119.648,141.192,126.848,149.088 Q119.648,156.984,126.848,164.88 Q113,157.68,99.152,164.88 Q85.304,157.68,71.456,164.88 Q57.608,157.68,43.76,164.88 z M61.76,132.336 Q54.56,141.192,61.76,150.048 Q69.608,157.248,77.456,150.048 Q85.304,157.248,93.152,150.048 Q101,157.248,108.848,150.048 Q116.048,141.192,108.848,132.336 Q101,125.136,93.152,132.336 Q85.304,125.136,77.456,132.336 Q69.608,125.136,61.76,132.336 z M126.848,30.816 Q119.648,47.16,126.848,63.504 Q135.632,70.704,144.416,63.504 Q137.216,71.424,144.416,79.344 Q135.632,72.144,126.848,79.344 Q119.648,95.4,126.848,111.456 Q117.776,104.256,108.704,111.456 Q115.904,98.016,108.704,84.576 Q115.904,71.136,108.704,57.696 Q115.904,44.256,108.704,30.816 Q117.776,38.016,126.848,30.816 z M69.68,29.088 Q62.48,36.288,69.68,43.488 Q84.152,50.688,98.624,43.488 Q91.424,51.048,98.624,58.608 Q85.856,51.408,73.088,58.608 Q60.32,51.408,47.552,58.608 Q34.784,51.408,22.016,58.608 Q29.216,51.048,22.016,43.488 Q36.776,50.688,51.536,43.488 Q58.736,36.288,51.536,29.088 Q60.608,36.288,69.68,29.088 z M74.072,108.936 Q60.14,102.564,60.608,110.592 Q61.04,102.564,47.072,108.936 Q49.304,99.468,37.136,104.4 Q41.24,93.744,30.944,97.488 Q37.064,85.968,28.784,88.848 Q35.984,86.688,28.784,84.528 Q37.064,87.444,30.944,75.96 Q41.24,79.704,37.136,69.048 Q49.304,73.944,47.072,64.44 Q61.04,70.812,60.608,62.784 Q60.14,70.812,74.072,64.44 Q71.876,73.944,84.08,69.048 Q79.976,79.704,90.272,75.96 Q84.152,87.444,92.432,84.528 Q85.232,86.688,92.432,88.848 Q84.152,85.968,90.272,97.488 Q79.976,93.744,84.08,104.4 Q71.876,99.468,74.072,108.936 z M71.624,79.56 Q73.316,71.028,60.608,76.896 Q47.9,71.028,49.592,79.56 Q40.556,75.276,45.92,85.392 Q38.72,86.688,45.92,87.984 Q40.556,98.1,49.592,93.816 Q47.9,102.348,60.608,96.48 Q73.316,102.348,71.624,93.816 Q80.66,98.1,75.296,87.984 Q82.496,86.688,75.296,85.392 Q80.66,75.276,71.624,79.56 z\" fill=\"rgb(240,240,240)\" stroke=\"rgb(40,40,40)\" stroke-miterlimit=\"10\"/>\n",
       "</svg>"
      ],
      "text/plain": [
       "<IPython.core.display.SVG object>"
      ]
     },
     "metadata": {},
     "output_type": "display_data"
    }
   ],
   "source": [
    "input_letters = [\"자\", \"외\", \"선\", \"강\", \"함\"]  \n",
    "av = 50\n",
    "\n",
    "for letter in input_letters:\n",
    "    glyph_origin = glyphcommands(f, letter)    \n",
    "    glyph_origin_direct = get_dir_list(glyph_origin)\n",
    "    cutted_glyph = cut_glyph([\"+right\", \"+left\", \"+up\", \"+down\"], 3, glyph_origin, glyph_origin_direct)\n",
    "\n",
    "    cutted_glyph_direct = get_dir_list(cutted_glyph)\n",
    "\n",
    "    mod_glyph = make_design_glyph(cutted_glyph, cutted_glyph_direct, av)\n",
    "    mod_path = Path(mod_glyph)\n",
    "    \n",
    "    page = document(300, 200, 'pt').addpage()\n",
    "    pen = shape().stroke(rgb(40, 40, 40)).fill(rgb(240, 240, 240))\n",
    "    page.place(pen.path(mod_path.scale(144/f.density).translate(20, 144)))\n",
    "    \n",
    "    show(page)"
   ]
  }
 ],
 "metadata": {
  "kernelspec": {
   "display_name": "Python 3 (ipykernel)",
   "language": "python",
   "name": "python3"
  },
  "language_info": {
   "codemirror_mode": {
    "name": "ipython",
    "version": 3
   },
   "file_extension": ".py",
   "mimetype": "text/x-python",
   "name": "python",
   "nbconvert_exporter": "python",
   "pygments_lexer": "ipython3",
   "version": "3.9.7"
  }
 },
 "nbformat": 4,
 "nbformat_minor": 5
}
